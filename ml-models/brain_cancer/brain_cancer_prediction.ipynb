{
 "cells": [
  {
   "cell_type": "markdown",
   "metadata": {},
   "source": [
    "## The results are saved as stats.jpg and result.jpg"
   ]
  },
  {
   "cell_type": "code",
   "execution_count": 1,
   "metadata": {},
   "outputs": [
    {
     "name": "stdout",
     "output_type": "stream",
     "text": [
      "Model loaded successfully as TFSMLayer.\n"
     ]
    }
   ],
   "source": [
    "import tensorflow as tf\n",
    "from keras.layers import TFSMLayer\n",
    "\n",
    "output_dir = 'brain_tumor_model_tf'\n",
    "model = TFSMLayer(output_dir, call_endpoint='serving_default')\n",
    "\n",
    "print(\"Model loaded successfully as TFSMLayer.\")\n"
   ]
  },
  {
   "cell_type": "code",
   "execution_count": 2,
   "metadata": {},
   "outputs": [],
   "source": [
    "class_dict =  {'glioma': 0, 'meningioma': 1, 'notumor': 2, 'pituitary': 3}\n",
    "classes = ['glioma', 'meningioma', 'notumor', 'pituitary']"
   ]
  },
  {
   "cell_type": "code",
   "execution_count": 4,
   "metadata": {},
   "outputs": [
    {
     "name": "stdout",
     "output_type": "stream",
     "text": [
      "Predicted Label: notumor with probability: 1.00\n"
     ]
    }
   ],
   "source": [
    "def predict(img_path):\n",
    "    import numpy as np\n",
    "    import matplotlib.pyplot as plt\n",
    "    from PIL import Image\n",
    "    \n",
    "    label = list(class_dict.keys())\n",
    "    \n",
    "    img = Image.open(img_path)\n",
    "    resized_img = img.resize((299, 299))  # Adjust based on your model input size\n",
    "    img = np.asarray(resized_img)\n",
    "    img = np.expand_dims(img, axis=0)\n",
    "    img = img / 255.0  # Normalize the image\n",
    "    \n",
    "    \n",
    "    \n",
    "    predictions = model(img)\n",
    "    \n",
    "    probs = predictions['dense_1'].numpy()[0]  \n",
    "    \n",
    "    max_prob_idx = np.argmax(probs)\n",
    "    predicted_label = label[max_prob_idx]\n",
    "    \n",
    "    print(f\"Predicted Label: {predicted_label} with probability: {probs[max_prob_idx]:.2f}\")\n",
    "\n",
    "    # add label and probability to the image then save to result.jpg\n",
    "    original_img = Image.open(img_path)\n",
    "    plt.imshow(original_img)\n",
    "    plt.title(f\"Predicted: {predicted_label} with probability: {probs[max_prob_idx]:.2f}\")\n",
    "    plt.savefig('result.jpg')\n",
    "    plt.close()\n",
    "    \n",
    "    plt.figure(figsize=(8, 6))\n",
    "    labels = label\n",
    "    bars = plt.barh(labels, probs)\n",
    "    plt.xlabel('Probability', fontsize=15)\n",
    "    plt.title(f\"Predicted: {predicted_label}\", fontsize=15)\n",
    "    ax = plt.gca()\n",
    "    ax.bar_label(bars, fmt='%.2f')\n",
    "    plt.savefig('stats.jpg') \n",
    "    plt.close()  \n",
    "    return predicted_label, probs[max_prob_idx]\n",
    "\n",
    "# Example of prediction\n",
    "img_path = 'OIP.jpeg'  # Provide your test image path\n",
    "result, result_prob = predict(img_path)\n"
   ]
  }
 ],
 "metadata": {
  "kernelspec": {
   "display_name": "Python 3",
   "language": "python",
   "name": "python3"
  },
  "language_info": {
   "codemirror_mode": {
    "name": "ipython",
    "version": 3
   },
   "file_extension": ".py",
   "mimetype": "text/x-python",
   "name": "python",
   "nbconvert_exporter": "python",
   "pygments_lexer": "ipython3",
   "version": "3.10.0"
  }
 },
 "nbformat": 4,
 "nbformat_minor": 2
}
