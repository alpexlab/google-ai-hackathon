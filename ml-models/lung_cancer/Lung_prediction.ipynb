{
 "cells": [
  {
   "cell_type": "markdown",
   "metadata": {},
   "source": [
    "## Have tested on kaggle it's working"
   ]
  },
  {
   "cell_type": "code",
   "execution_count": null,
   "metadata": {},
   "outputs": [],
   "source": [
    "import tensorflow as tf\n",
    "import numpy as np\n",
    "from tensorflow.keras.models import load_model\n",
    "from tensorflow.keras.preprocessing import image\n",
    "import matplotlib.pyplot as plt\n",
    "\n",
    "# Load your model\n",
    "best_model = load_model('/kaggle/working/best.keras')\n",
    "\n",
    "def load_and_preprocess_image(img_path, img_height, img_width):\n",
    "    img = image.load_img(img_path, target_size=(img_height, img_width))\n",
    "    img_array = image.img_to_array(img)\n",
    "    img_array = np.expand_dims(img_array, axis=0)  # Add batch dimension\n",
    "    img_array /= 255.0  # Scale pixel values to [0, 1]\n",
    "    return img_array\n",
    "\n",
    "# Path to your individual image\n",
    "img_path = '/kaggle/input/the-iqothnccd-lung-cancer-dataset/The IQ-OTHNCCD lung cancer dataset/Malignant cases/Malignant case (1).jpg'\n",
    "img_height, img_width = 256, 256 \n",
    "\n",
    "# Load and preprocess the image\n",
    "img_array = load_and_preprocess_image(img_path, img_height, img_width)\n",
    "\n",
    "# Make predictions\n",
    "predictions = best_model.predict(img_array)\n",
    "\n",
    "# Get predicted class index\n",
    "predicted_class = np.argmax(predictions, axis=1)\n",
    "\n",
    "# Define class names\n",
    "class_names = ['benign', 'malignant', 'no tumor detected']  # Updated class names\n",
    "\n",
    "# Print the predicted class\n",
    "print(f'Predicted class index: {predicted_class[0]}')\n",
    "print(f'Predicted class: {class_names[predicted_class[0]]}')\n",
    "\n",
    "# Plot the image\n",
    "plt.figure(figsize=(10, 5))\n",
    "\n",
    "# Plot the image\n",
    "plt.subplot(1, 2, 1)\n",
    "plt.imshow(image.array_to_img(img_array[0]))\n",
    "plt.axis('off')\n",
    "plt.title(f'Predicted: {class_names[predicted_class[0]]}')\n",
    "\n",
    "# Plot the histogram of prediction probabilities\n",
    "plt.subplot(1, 2, 2)\n",
    "plt.bar(class_names, predictions[0], color=['blue', 'red', 'green'])  # Adjust colors for each class\n",
    "plt.xlabel('Class')\n",
    "plt.ylabel('Probability')\n",
    "plt.title('Prediction Probabilities')\n",
    "\n",
    "# Save the combined results\n",
    "plt.savefig('result.jpg', bbox_inches='tight')  # Save the entire figure\n",
    "plt.show()\n",
    "\n",
    "# Save the histogram separately\n",
    "plt.figure()\n",
    "plt.bar(class_names, predictions[0], color=['blue', 'red', 'green'])  # Adjust colors for each class\n",
    "plt.xlabel('Class')\n",
    "plt.ylabel('Probability')\n",
    "plt.title('Prediction Probabilities')\n",
    "plt.savefig('stats.jpg', bbox_inches='tight')  # Save the histogram\n",
    "plt.close()\n"
   ]
  },
  {
   "cell_type": "code",
   "execution_count": null,
   "metadata": {},
   "outputs": [],
   "source": []
  }
 ],
 "metadata": {
  "kernelspec": {
   "display_name": "Python 3",
   "language": "python",
   "name": "python3"
  },
  "language_info": {
   "codemirror_mode": {
    "name": "ipython",
    "version": 3
   },
   "file_extension": ".py",
   "mimetype": "text/x-python",
   "name": "python",
   "nbconvert_exporter": "python",
   "pygments_lexer": "ipython3",
   "version": "3.12.6"
  }
 },
 "nbformat": 4,
 "nbformat_minor": 2
}
