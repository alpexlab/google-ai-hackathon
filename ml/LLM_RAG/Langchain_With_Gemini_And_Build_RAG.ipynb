{
  "cells": [
    {
      "cell_type": "code",
      "execution_count": 1,
      "metadata": {
        "colab": {
          "base_uri": "https://localhost:8080/"
        },
        "id": "wgALz5M7I9dQ",
        "outputId": "ededf12f-e6be-4720-9b17-cf6246ec247b"
      },
      "outputs": [
        {
          "name": "stdout",
          "output_type": "stream",
          "text": [
            "\u001b[?25l     \u001b[90m━━━━━━━━━━━━━━━━━━━━━━━━━━━━━━━━━━━━━━━━\u001b[0m \u001b[32m0.0/67.3 kB\u001b[0m \u001b[31m?\u001b[0m eta \u001b[36m-:--:--\u001b[0m\r\u001b[2K     \u001b[90m━━━━━━━━━━━━━━━━━━━━━━━━━━━━━━━━━━━━━━━━\u001b[0m \u001b[32m67.3/67.3 kB\u001b[0m \u001b[31m2.3 MB/s\u001b[0m eta \u001b[36m0:00:00\u001b[0m\n",
            "\u001b[?25h  Installing build dependencies ... \u001b[?25l\u001b[?25hdone\n",
            "  Getting requirements to build wheel ... \u001b[?25l\u001b[?25hdone\n",
            "  Preparing metadata (pyproject.toml) ... \u001b[?25l\u001b[?25hdone\n",
            "\u001b[2K     \u001b[90m━━━━━━━━━━━━━━━━━━━━━━━━━━━━━━━━━━━━━━━━\u001b[0m \u001b[32m50.4/50.4 kB\u001b[0m \u001b[31m1.4 MB/s\u001b[0m eta \u001b[36m0:00:00\u001b[0m\n",
            "\u001b[?25h  Preparing metadata (setup.py) ... \u001b[?25l\u001b[?25hdone\n",
            "\u001b[2K   \u001b[90m━━━━━━━━━━━━━━━━━━━━━━━━━━━━━━━━━━━━━━━━\u001b[0m \u001b[32m604.0/604.0 kB\u001b[0m \u001b[31m13.2 MB/s\u001b[0m eta \u001b[36m0:00:00\u001b[0m\n",
            "\u001b[2K   \u001b[90m━━━━━━━━━━━━━━━━━━━━━━━━━━━━━━━━━━━━━━━━\u001b[0m \u001b[32m2.4/2.4 MB\u001b[0m \u001b[31m39.1 MB/s\u001b[0m eta \u001b[36m0:00:00\u001b[0m\n",
            "\u001b[2K   \u001b[90m━━━━━━━━━━━━━━━━━━━━━━━━━━━━━━━━━━━━━━━━\u001b[0m \u001b[32m294.5/294.5 kB\u001b[0m \u001b[31m17.5 MB/s\u001b[0m eta \u001b[36m0:00:00\u001b[0m\n",
            "\u001b[2K   \u001b[90m━━━━━━━━━━━━━━━━━━━━━━━━━━━━━━━━━━━━━━━━\u001b[0m \u001b[32m273.8/273.8 kB\u001b[0m \u001b[31m17.1 MB/s\u001b[0m eta \u001b[36m0:00:00\u001b[0m\n",
            "\u001b[2K   \u001b[90m━━━━━━━━━━━━━━━━━━━━━━━━━━━━━━━━━━━━━━━━\u001b[0m \u001b[32m94.6/94.6 kB\u001b[0m \u001b[31m5.7 MB/s\u001b[0m eta \u001b[36m0:00:00\u001b[0m\n",
            "\u001b[2K   \u001b[90m━━━━━━━━━━━━━━━━━━━━━━━━━━━━━━━━━━━━━━━━\u001b[0m \u001b[32m76.4/76.4 kB\u001b[0m \u001b[31m4.7 MB/s\u001b[0m eta \u001b[36m0:00:00\u001b[0m\n",
            "\u001b[2K   \u001b[90m━━━━━━━━━━━━━━━━━━━━━━━━━━━━━━━━━━━━━━━━\u001b[0m \u001b[32m77.9/77.9 kB\u001b[0m \u001b[31m5.1 MB/s\u001b[0m eta \u001b[36m0:00:00\u001b[0m\n",
            "\u001b[2K   \u001b[90m━━━━━━━━━━━━━━━━━━━━━━━━━━━━━━━━━━━━━━━━\u001b[0m \u001b[32m1.9/1.9 MB\u001b[0m \u001b[31m58.0 MB/s\u001b[0m eta \u001b[36m0:00:00\u001b[0m\n",
            "\u001b[2K   \u001b[90m━━━━━━━━━━━━━━━━━━━━━━━━━━━━━━━━━━━━━━━━\u001b[0m \u001b[32m399.9/399.9 kB\u001b[0m \u001b[31m20.5 MB/s\u001b[0m eta \u001b[36m0:00:00\u001b[0m\n",
            "\u001b[2K   \u001b[90m━━━━━━━━━━━━━━━━━━━━━━━━━━━━━━━━━━━━━━━━\u001b[0m \u001b[32m93.2/93.2 kB\u001b[0m \u001b[31m5.4 MB/s\u001b[0m eta \u001b[36m0:00:00\u001b[0m\n",
            "\u001b[2K   \u001b[90m━━━━━━━━━━━━━━━━━━━━━━━━━━━━━━━━━━━━━━━━\u001b[0m \u001b[32m13.2/13.2 MB\u001b[0m \u001b[31m78.8 MB/s\u001b[0m eta \u001b[36m0:00:00\u001b[0m\n",
            "\u001b[2K   \u001b[90m━━━━━━━━━━━━━━━━━━━━━━━━━━━━━━━━━━━━━━━━\u001b[0m \u001b[32m64.0/64.0 kB\u001b[0m \u001b[31m4.0 MB/s\u001b[0m eta \u001b[36m0:00:00\u001b[0m\n",
            "\u001b[2K   \u001b[90m━━━━━━━━━━━━━━━━━━━━━━━━━━━━━━━━━━━━━━━━\u001b[0m \u001b[32m52.5/52.5 kB\u001b[0m \u001b[31m3.2 MB/s\u001b[0m eta \u001b[36m0:00:00\u001b[0m\n",
            "\u001b[2K   \u001b[90m━━━━━━━━━━━━━━━━━━━━━━━━━━━━━━━━━━━━━━━━\u001b[0m \u001b[32m149.7/149.7 kB\u001b[0m \u001b[31m9.2 MB/s\u001b[0m eta \u001b[36m0:00:00\u001b[0m\n",
            "\u001b[2K   \u001b[90m━━━━━━━━━━━━━━━━━━━━━━━━━━━━━━━━━━━━━━━━\u001b[0m \u001b[32m110.5/110.5 kB\u001b[0m \u001b[31m7.6 MB/s\u001b[0m eta \u001b[36m0:00:00\u001b[0m\n",
            "\u001b[2K   \u001b[90m━━━━━━━━━━━━━━━━━━━━━━━━━━━━━━━━━━━━━━━━\u001b[0m \u001b[32m141.9/141.9 kB\u001b[0m \u001b[31m9.0 MB/s\u001b[0m eta \u001b[36m0:00:00\u001b[0m\n",
            "\u001b[2K   \u001b[90m━━━━━━━━━━━━━━━━━━━━━━━━━━━━━━━━━━━━━━━━\u001b[0m \u001b[32m54.3/54.3 kB\u001b[0m \u001b[31m3.4 MB/s\u001b[0m eta \u001b[36m0:00:00\u001b[0m\n",
            "\u001b[2K   \u001b[90m━━━━━━━━━━━━━━━━━━━━━━━━━━━━━━━━━━━━━━━━\u001b[0m \u001b[32m63.7/63.7 kB\u001b[0m \u001b[31m3.8 MB/s\u001b[0m eta \u001b[36m0:00:00\u001b[0m\n",
            "\u001b[2K   \u001b[90m━━━━━━━━━━━━━━━━━━━━━━━━━━━━━━━━━━━━━━━━\u001b[0m \u001b[32m58.3/58.3 kB\u001b[0m \u001b[31m3.3 MB/s\u001b[0m eta \u001b[36m0:00:00\u001b[0m\n",
            "\u001b[2K   \u001b[90m━━━━━━━━━━━━━━━━━━━━━━━━━━━━━━━━━━━━━━━━\u001b[0m \u001b[32m341.4/341.4 kB\u001b[0m \u001b[31m19.7 MB/s\u001b[0m eta \u001b[36m0:00:00\u001b[0m\n",
            "\u001b[2K   \u001b[90m━━━━━━━━━━━━━━━━━━━━━━━━━━━━━━━━━━━━━━━━\u001b[0m \u001b[32m292.2/292.2 kB\u001b[0m \u001b[31m17.6 MB/s\u001b[0m eta \u001b[36m0:00:00\u001b[0m\n",
            "\u001b[2K   \u001b[90m━━━━━━━━━━━━━━━━━━━━━━━━━━━━━━━━━━━━━━━━\u001b[0m \u001b[32m71.5/71.5 kB\u001b[0m \u001b[31m4.6 MB/s\u001b[0m eta \u001b[36m0:00:00\u001b[0m\n",
            "\u001b[2K   \u001b[90m━━━━━━━━━━━━━━━━━━━━━━━━━━━━━━━━━━━━━━━━\u001b[0m \u001b[32m3.4/3.4 MB\u001b[0m \u001b[31m73.6 MB/s\u001b[0m eta \u001b[36m0:00:00\u001b[0m\n",
            "\u001b[2K   \u001b[90m━━━━━━━━━━━━━━━━━━━━━━━━━━━━━━━━━━━━━━━━\u001b[0m \u001b[32m425.7/425.7 kB\u001b[0m \u001b[31m22.8 MB/s\u001b[0m eta \u001b[36m0:00:00\u001b[0m\n",
            "\u001b[2K   \u001b[90m━━━━━━━━━━━━━━━━━━━━━━━━━━━━━━━━━━━━━━━━\u001b[0m \u001b[32m164.1/164.1 kB\u001b[0m \u001b[31m10.1 MB/s\u001b[0m eta \u001b[36m0:00:00\u001b[0m\n",
            "\u001b[2K   \u001b[90m━━━━━━━━━━━━━━━━━━━━━━━━━━━━━━━━━━━━━━━━\u001b[0m \u001b[32m46.0/46.0 kB\u001b[0m \u001b[31m2.4 MB/s\u001b[0m eta \u001b[36m0:00:00\u001b[0m\n",
            "\u001b[2K   \u001b[90m━━━━━━━━━━━━━━━━━━━━━━━━━━━━━━━━━━━━━━━━\u001b[0m \u001b[32m86.8/86.8 kB\u001b[0m \u001b[31m5.4 MB/s\u001b[0m eta \u001b[36m0:00:00\u001b[0m\n",
            "\u001b[?25h  Building wheel for pypika (pyproject.toml) ... \u001b[?25l\u001b[?25hdone\n",
            "  Building wheel for durationpy (setup.py) ... \u001b[?25l\u001b[?25hdone\n"
          ]
        }
      ],
      "source": [
        "!pip install -q --upgrade google-generativeai langchain-google-genai chromadb pypdf"
      ]
    },
    {
      "cell_type": "code",
      "execution_count": 2,
      "metadata": {
        "id": "ELCq2M4XJ467"
      },
      "outputs": [],
      "source": [
        "from IPython.display import display\n",
        "from IPython.display import Markdown\n",
        "import textwrap\n",
        "\n",
        "\n",
        "def to_markdown(text):\n",
        "  text = text.replace('•', '  *')\n",
        "  return Markdown(textwrap.indent(text, '> ', predicate=lambda _: True))"
      ]
    },
    {
      "cell_type": "code",
      "execution_count": 3,
      "metadata": {
        "id": "CHCjBuPHJ-JU"
      },
      "outputs": [],
      "source": [
        "import google.generativeai as genai\n",
        "from google.colab import userdata"
      ]
    },
    {
      "cell_type": "code",
      "execution_count": 5,
      "metadata": {
        "id": "1cb7x-g7KBBw"
      },
      "outputs": [],
      "source": [
        "import os\n",
        "GOOGLE_API_KEY=userdata.get('GOOGLE_API_KEY')\n",
        "genai.configure(api_key=GOOGLE_API_KEY)"
      ]
    },
    {
      "cell_type": "markdown",
      "metadata": {
        "id": "3NOFOt74X2Gd"
      },
      "source": [
        "### Text Generation"
      ]
    },
    {
      "cell_type": "code",
      "execution_count": 6,
      "metadata": {
        "colab": {
          "base_uri": "https://localhost:8080/"
        },
        "id": "KG_3KsGRKDYU",
        "outputId": "c2f3d917-b205-432f-a7ee-996455823d92"
      },
      "outputs": [
        {
          "data": {
            "text/plain": [
              "genai.GenerativeModel(\n",
              "    model_name='models/gemini-pro',\n",
              "    generation_config={},\n",
              "    safety_settings={},\n",
              "    tools=None,\n",
              "    system_instruction=None,\n",
              "    cached_content=None\n",
              ")"
            ]
          },
          "execution_count": 6,
          "metadata": {},
          "output_type": "execute_result"
        }
      ],
      "source": [
        "model = genai.GenerativeModel(model_name = \"gemini-pro\")\n",
        "model"
      ]
    },
    {
      "cell_type": "code",
      "execution_count": 7,
      "metadata": {
        "id": "R-2GbIa-KaUb"
      },
      "outputs": [],
      "source": [
        "response = model.generate_content(\"What are the usecases of LLMs?\")"
      ]
    },
    {
      "cell_type": "code",
      "execution_count": 8,
      "metadata": {
        "colab": {
          "base_uri": "https://localhost:8080/",
          "height": 550
        },
        "id": "i9TTvRUfKmBg",
        "outputId": "d8912fb6-b291-4208-8410-61dcdf716b4c"
      },
      "outputs": [
        {
          "data": {
            "text/markdown": [
              "> **Content Generation and Creation**\n",
              "> \n",
              "> * **Copywriting and marketing:** Generate website copy, social media content, email campaigns, and product descriptions.\n",
              "> * **Content marketing:** Create articles, blog posts, and whitepapers on specific topics or industries.\n",
              "> * **Fiction and non-fiction writing:** Assist authors in developing plots, characters, and prose.\n",
              "> * **Songwriting and poetry:** Generate lyrics, melodies, and rhymes based on input.\n",
              "> \n",
              "> **Informational and Research**\n",
              "> \n",
              "> * **Knowledge summarization:** Extract key insights and summaries from large amounts of text data.\n",
              "> * **Question answering:** Provide accurate and detailed responses to user questions.\n",
              "> * **Language translation:** Translate text from one language to another.\n",
              "> * **Research and analysis:** Assist researchers in gathering, analyzing, and interpreting data.\n",
              "> \n",
              "> **Education and Learning**\n",
              "> \n",
              "> * **Personalized learning:** Create tailored lesson plans and learning materials based on individual student needs.\n",
              "> * **Language learning:** Provide interactive dialogues, exercises, and feedback.\n",
              "> * **Question generation:** Generate thought-provoking questions to enhance understanding and critical thinking.\n",
              "> * **Tutoring and assistance:** Offer virtual assistance and support in different subjects.\n",
              "> \n",
              "> **Communication and Collaboration**\n",
              "> \n",
              "> * **Chatbots and virtual assistants:** Engage with users through natural language conversations.\n",
              "> * **Social media engagement:** Analyze and generate responses to social media posts and conversations.\n",
              "> * **Customer service:** Automate customer support interactions by understanding user requests and providing solutions.\n",
              "> * **Sentiment analysis:** Determine the sentiment of text data, such as social media posts or reviews.\n",
              "> \n",
              "> **Other Usecases**\n",
              "> \n",
              "> * **Healthcare:** Assist in diagnosis, treatment planning, and patient education.\n",
              "> * **Finance:** Perform financial analysis, modeling, and fraud detection.\n",
              "> * **Gaming:** Create immersive game experiences with natural language interaction and procedurally generated content.\n",
              "> * **Data mining:** Uncover patterns and insights from unstructured text data.\n",
              "> * **Personal productivity:** Automate tasks such as scheduling, email management, and note-taking."
            ],
            "text/plain": [
              "<IPython.core.display.Markdown object>"
            ]
          },
          "execution_count": 8,
          "metadata": {},
          "output_type": "execute_result"
        }
      ],
      "source": [
        "to_markdown(response.text)"
      ]
    },
    {
      "cell_type": "markdown",
      "metadata": {
        "id": "-TbsjM7hK6PR"
      },
      "source": [
        "### Use LangChain to Access Gemini API"
      ]
    },
    {
      "cell_type": "code",
      "execution_count": 9,
      "metadata": {
        "id": "WqdODsdLK8li"
      },
      "outputs": [],
      "source": [
        "from langchain_google_genai import ChatGoogleGenerativeAI\n"
      ]
    },
    {
      "cell_type": "code",
      "execution_count": 10,
      "metadata": {
        "id": "vknP_oOWK-k7"
      },
      "outputs": [],
      "source": [
        "llm = ChatGoogleGenerativeAI(model=\"gemini-pro\",google_api_key=GOOGLE_API_KEY)"
      ]
    },
    {
      "cell_type": "code",
      "execution_count": 11,
      "metadata": {
        "id": "hvY2YkFoLDO7"
      },
      "outputs": [],
      "source": [
        "result = llm.invoke(\"What are the usecases of LLMs?\")\n"
      ]
    },
    {
      "cell_type": "code",
      "execution_count": 12,
      "metadata": {
        "colab": {
          "base_uri": "https://localhost:8080/",
          "height": 609
        },
        "id": "ar8KNtZILE47",
        "outputId": "72c3fadd-226d-40ad-9385-020a226ddd93"
      },
      "outputs": [
        {
          "data": {
            "text/markdown": [
              "> **Language Generation and Translation:**\n",
              "> \n",
              "> * **Content creation:** Generating text, articles, stories, and scripts for various purposes.\n",
              "> * **Translation:** Translating text between multiple languages.\n",
              "> * **Summarization:** Creating concise summaries of long documents or conversations.\n",
              "> \n",
              "> **Code Generation and Analysis:**\n",
              "> \n",
              "> * **Code generation:** Generating code in various programming languages.\n",
              "> * **Code analysis:** Identifying errors, vulnerabilities, and potential optimizations in code.\n",
              "> * **Documentation generation:** Automatically creating documentation for code.\n",
              "> \n",
              "> **Customer Service and Support:**\n",
              "> \n",
              "> * **Chatbots:** Responding to customer inquiries and providing support.\n",
              "> * **Ticket generation:** Automating ticket creation and response.\n",
              "> * **Sentiment analysis:** Understanding customer sentiment from text-based interactions.\n",
              "> \n",
              "> **Education and Research:**\n",
              "> \n",
              "> * **Personalized learning:** Tailoring educational content to individual students' needs.\n",
              "> * **Question answering:** Answering students' questions and providing explanations.\n",
              "> * **Research assistance:** Gathering and analyzing information for research projects.\n",
              "> \n",
              "> **Healthcare and Medicine:**\n",
              "> \n",
              "> * **Medical diagnosis support:** Assisting doctors in identifying potential diagnoses based on symptoms.\n",
              "> * **Drug discovery and development:** Accelerating research and development of new medications.\n",
              "> * **Personalized treatment planning:** Creating tailored treatment plans for individual patients.\n",
              "> \n",
              "> **Business and Finance:**\n",
              "> \n",
              "> * **Market analysis:** Monitoring market trends and identifying opportunities.\n",
              "> * **Financial modeling:** Developing financial models and forecasting financial performance.\n",
              "> * **Risk assessment:** Identifying and mitigating financial risks.\n",
              "> \n",
              "> **Other Usecases:**\n",
              "> \n",
              "> * **Creative writing:** Generating ideas for stories, poems, and other creative content.\n",
              "> * **Personalization:** Tailoring experiences to individual users based on their preferences.\n",
              "> * **Data analysis:** Identifying patterns, trends, and insights from large datasets."
            ],
            "text/plain": [
              "<IPython.core.display.Markdown object>"
            ]
          },
          "execution_count": 12,
          "metadata": {},
          "output_type": "execute_result"
        }
      ],
      "source": [
        "to_markdown(result.content)"
      ]
    },
    {
      "cell_type": "code",
      "execution_count": 13,
      "metadata": {
        "colab": {
          "base_uri": "https://localhost:8080/"
        },
        "collapsed": true,
        "id": "h-14UghOLJHA",
        "outputId": "e1bcdf69-dce7-4f52-9b14-d7386fe929e5"
      },
      "outputs": [
        {
          "name": "stdout",
          "output_type": "stream",
          "text": [
            "The following additional packages will be installed:\n",
            "  libarchive-dev libleptonica-dev tesseract-ocr-eng tesseract-ocr-osd\n",
            "The following NEW packages will be installed:\n",
            "  libarchive-dev libleptonica-dev libtesseract-dev tesseract-ocr\n",
            "  tesseract-ocr-eng tesseract-ocr-osd\n",
            "0 upgraded, 6 newly installed, 0 to remove and 49 not upgraded.\n",
            "Need to get 8,560 kB of archives.\n",
            "After this operation, 31.6 MB of additional disk space will be used.\n",
            "debconf: unable to initialize frontend: Dialog\n",
            "debconf: (No usable dialog-like program is installed, so the dialog based frontend cannot be used. at /usr/share/perl5/Debconf/FrontEnd/Dialog.pm line 78, <> line 6.)\n",
            "debconf: falling back to frontend: Readline\n",
            "debconf: unable to initialize frontend: Readline\n",
            "debconf: (This frontend requires a controlling tty.)\n",
            "debconf: falling back to frontend: Teletype\n",
            "dpkg-preconfigure: unable to re-open stdin: \n",
            "Selecting previously unselected package libarchive-dev:amd64.\n",
            "(Reading database ... 123614 files and directories currently installed.)\n",
            "Preparing to unpack .../0-libarchive-dev_3.6.0-1ubuntu1.1_amd64.deb ...\n",
            "Unpacking libarchive-dev:amd64 (3.6.0-1ubuntu1.1) ...\n",
            "Selecting previously unselected package libleptonica-dev.\n",
            "Preparing to unpack .../1-libleptonica-dev_1.82.0-3build1_amd64.deb ...\n",
            "Unpacking libleptonica-dev (1.82.0-3build1) ...\n",
            "Selecting previously unselected package libtesseract-dev:amd64.\n",
            "Preparing to unpack .../2-libtesseract-dev_4.1.1-2.1build1_amd64.deb ...\n",
            "Unpacking libtesseract-dev:amd64 (4.1.1-2.1build1) ...\n",
            "Selecting previously unselected package tesseract-ocr-eng.\n",
            "Preparing to unpack .../3-tesseract-ocr-eng_1%3a4.00~git30-7274cfa-1.1_all.deb ...\n",
            "Unpacking tesseract-ocr-eng (1:4.00~git30-7274cfa-1.1) ...\n",
            "Selecting previously unselected package tesseract-ocr-osd.\n",
            "Preparing to unpack .../4-tesseract-ocr-osd_1%3a4.00~git30-7274cfa-1.1_all.deb ...\n",
            "Unpacking tesseract-ocr-osd (1:4.00~git30-7274cfa-1.1) ...\n",
            "Selecting previously unselected package tesseract-ocr.\n",
            "Preparing to unpack .../5-tesseract-ocr_4.1.1-2.1build1_amd64.deb ...\n",
            "Unpacking tesseract-ocr (4.1.1-2.1build1) ...\n",
            "Setting up tesseract-ocr-eng (1:4.00~git30-7274cfa-1.1) ...\n",
            "Setting up libleptonica-dev (1.82.0-3build1) ...\n",
            "Setting up libarchive-dev:amd64 (3.6.0-1ubuntu1.1) ...\n",
            "Setting up tesseract-ocr-osd (1:4.00~git30-7274cfa-1.1) ...\n",
            "Setting up libtesseract-dev:amd64 (4.1.1-2.1build1) ...\n",
            "Setting up tesseract-ocr (4.1.1-2.1build1) ...\n",
            "Processing triggers for man-db (2.10.2-1) ...\n",
            "debconf: unable to initialize frontend: Dialog\n",
            "debconf: (No usable dialog-like program is installed, so the dialog based frontend cannot be used. at /usr/share/perl5/Debconf/FrontEnd/Dialog.pm line 78, <> line 29.)\n",
            "debconf: falling back to frontend: Readline\n",
            "debconf: unable to initialize frontend: Readline\n",
            "debconf: (This frontend requires a controlling tty.)\n",
            "debconf: falling back to frontend: Teletype\n",
            "dpkg-preconfigure: unable to re-open stdin: \n",
            "Selecting previously unselected package fonts-droid-fallback.\n",
            "(Reading database ... 123794 files and directories currently installed.)\n",
            "Preparing to unpack .../00-fonts-droid-fallback_1%3a6.0.1r16-1.1build1_all.deb ...\n",
            "Unpacking fonts-droid-fallback (1:6.0.1r16-1.1build1) ...\n",
            "Selecting previously unselected package poppler-data.\n",
            "Preparing to unpack .../01-poppler-data_0.4.11-1_all.deb ...\n",
            "Unpacking poppler-data (0.4.11-1) ...\n",
            "Selecting previously unselected package antiword.\n",
            "Preparing to unpack .../02-antiword_0.37-16_amd64.deb ...\n",
            "Unpacking antiword (0.37-16) ...\n",
            "Selecting previously unselected package flac.\n",
            "Preparing to unpack .../03-flac_1.3.3-2ubuntu0.2_amd64.deb ...\n",
            "Unpacking flac (1.3.3-2ubuntu0.2) ...\n",
            "Selecting previously unselected package fonts-noto-mono.\n",
            "Preparing to unpack .../04-fonts-noto-mono_20201225-1build1_all.deb ...\n",
            "Unpacking fonts-noto-mono (20201225-1build1) ...\n",
            "Selecting previously unselected package fonts-urw-base35.\n",
            "Preparing to unpack .../05-fonts-urw-base35_20200910-1_all.deb ...\n",
            "Unpacking fonts-urw-base35 (20200910-1) ...\n",
            "Selecting previously unselected package libgs9-common.\n",
            "Preparing to unpack .../06-libgs9-common_9.55.0~dfsg1-0ubuntu5.9_all.deb ...\n",
            "Unpacking libgs9-common (9.55.0~dfsg1-0ubuntu5.9) ...\n",
            "Selecting previously unselected package libidn12:amd64.\n",
            "Preparing to unpack .../07-libidn12_1.38-4ubuntu1_amd64.deb ...\n",
            "Unpacking libidn12:amd64 (1.38-4ubuntu1) ...\n",
            "Selecting previously unselected package libijs-0.35:amd64.\n",
            "Preparing to unpack .../08-libijs-0.35_0.35-15build2_amd64.deb ...\n",
            "Unpacking libijs-0.35:amd64 (0.35-15build2) ...\n",
            "Selecting previously unselected package libjbig2dec0:amd64.\n",
            "Preparing to unpack .../09-libjbig2dec0_0.19-3build2_amd64.deb ...\n",
            "Unpacking libjbig2dec0:amd64 (0.19-3build2) ...\n",
            "Selecting previously unselected package libgs9:amd64.\n",
            "Preparing to unpack .../10-libgs9_9.55.0~dfsg1-0ubuntu5.9_amd64.deb ...\n",
            "Unpacking libgs9:amd64 (9.55.0~dfsg1-0ubuntu5.9) ...\n",
            "Selecting previously unselected package ghostscript.\n",
            "Preparing to unpack .../11-ghostscript_9.55.0~dfsg1-0ubuntu5.9_amd64.deb ...\n",
            "Unpacking ghostscript (9.55.0~dfsg1-0ubuntu5.9) ...\n",
            "Selecting previously unselected package lame.\n",
            "Preparing to unpack .../12-lame_3.100-3build2_amd64.deb ...\n",
            "Unpacking lame (3.100-3build2) ...\n",
            "Selecting previously unselected package libid3tag0:amd64.\n",
            "Preparing to unpack .../13-libid3tag0_0.15.1b-14_amd64.deb ...\n",
            "Unpacking libid3tag0:amd64 (0.15.1b-14) ...\n",
            "Selecting previously unselected package libmad0:amd64.\n",
            "Preparing to unpack .../14-libmad0_0.15.1b-10ubuntu1_amd64.deb ...\n",
            "Unpacking libmad0:amd64 (0.15.1b-10ubuntu1) ...\n",
            "Selecting previously unselected package libopencore-amrnb0:amd64.\n",
            "Preparing to unpack .../15-libopencore-amrnb0_0.1.5-1_amd64.deb ...\n",
            "Unpacking libopencore-amrnb0:amd64 (0.1.5-1) ...\n",
            "Selecting previously unselected package libopencore-amrwb0:amd64.\n",
            "Preparing to unpack .../16-libopencore-amrwb0_0.1.5-1_amd64.deb ...\n",
            "Unpacking libopencore-amrwb0:amd64 (0.1.5-1) ...\n",
            "Selecting previously unselected package libsox3:amd64.\n",
            "Preparing to unpack .../17-libsox3_14.4.2+git20190427-2+deb11u2ubuntu0.22.04.1_amd64.deb ...\n",
            "Unpacking libsox3:amd64 (14.4.2+git20190427-2+deb11u2ubuntu0.22.04.1) ...\n",
            "Selecting previously unselected package libsox-fmt-alsa:amd64.\n",
            "Preparing to unpack .../18-libsox-fmt-alsa_14.4.2+git20190427-2+deb11u2ubuntu0.22.04.1_amd64.deb ...\n",
            "Unpacking libsox-fmt-alsa:amd64 (14.4.2+git20190427-2+deb11u2ubuntu0.22.04.1) ...\n",
            "Selecting previously unselected package libwavpack1:amd64.\n",
            "Preparing to unpack .../19-libwavpack1_5.4.0-1build2_amd64.deb ...\n",
            "Unpacking libwavpack1:amd64 (5.4.0-1build2) ...\n",
            "Selecting previously unselected package libsox-fmt-base:amd64.\n",
            "Preparing to unpack .../20-libsox-fmt-base_14.4.2+git20190427-2+deb11u2ubuntu0.22.04.1_amd64.deb ...\n",
            "Unpacking libsox-fmt-base:amd64 (14.4.2+git20190427-2+deb11u2ubuntu0.22.04.1) ...\n",
            "Selecting previously unselected package libsox-fmt-mp3:amd64.\n",
            "Preparing to unpack .../21-libsox-fmt-mp3_14.4.2+git20190427-2+deb11u2ubuntu0.22.04.1_amd64.deb ...\n",
            "Unpacking libsox-fmt-mp3:amd64 (14.4.2+git20190427-2+deb11u2ubuntu0.22.04.1) ...\n",
            "Selecting previously unselected package libxslt1-dev:amd64.\n",
            "Preparing to unpack .../22-libxslt1-dev_1.1.34-4ubuntu0.22.04.1_amd64.deb ...\n",
            "Unpacking libxslt1-dev:amd64 (1.1.34-4ubuntu0.22.04.1) ...\n",
            "Selecting previously unselected package poppler-utils.\n",
            "Preparing to unpack .../23-poppler-utils_22.02.0-2ubuntu0.5_amd64.deb ...\n",
            "Unpacking poppler-utils (22.02.0-2ubuntu0.5) ...\n",
            "Selecting previously unselected package pstotext.\n",
            "Preparing to unpack .../24-pstotext_1.9-6build1_amd64.deb ...\n",
            "Unpacking pstotext (1.9-6build1) ...\n",
            "Selecting previously unselected package sox.\n",
            "Preparing to unpack .../25-sox_14.4.2+git20190427-2+deb11u2ubuntu0.22.04.1_amd64.deb ...\n",
            "Unpacking sox (14.4.2+git20190427-2+deb11u2ubuntu0.22.04.1) ...\n",
            "Selecting previously unselected package swig4.0.\n",
            "Preparing to unpack .../26-swig4.0_4.0.2-1ubuntu1_amd64.deb ...\n",
            "Unpacking swig4.0 (4.0.2-1ubuntu1) ...\n",
            "Selecting previously unselected package swig.\n",
            "Preparing to unpack .../27-swig_4.0.2-1ubuntu1_all.deb ...\n",
            "Unpacking swig (4.0.2-1ubuntu1) ...\n",
            "Selecting previously unselected package unrtf.\n",
            "Preparing to unpack .../28-unrtf_0.21.10-clean-1_amd64.deb ...\n",
            "Unpacking unrtf (0.21.10-clean-1) ...\n",
            "Setting up unrtf (0.21.10-clean-1) ...\n",
            "Setting up libxslt1-dev:amd64 (1.1.34-4ubuntu0.22.04.1) ...\n",
            "Setting up fonts-noto-mono (20201225-1build1) ...\n",
            "Setting up libsox3:amd64 (14.4.2+git20190427-2+deb11u2ubuntu0.22.04.1) ...\n",
            "Setting up libijs-0.35:amd64 (0.35-15build2) ...\n",
            "Setting up fonts-urw-base35 (20200910-1) ...\n",
            "Setting up lame (3.100-3build2) ...\n",
            "Setting up poppler-data (0.4.11-1) ...\n",
            "Setting up libid3tag0:amd64 (0.15.1b-14) ...\n",
            "Setting up libopencore-amrwb0:amd64 (0.1.5-1) ...\n",
            "Setting up flac (1.3.3-2ubuntu0.2) ...\n",
            "Setting up libjbig2dec0:amd64 (0.19-3build2) ...\n",
            "Setting up libidn12:amd64 (1.38-4ubuntu1) ...\n",
            "Setting up libsox-fmt-alsa:amd64 (14.4.2+git20190427-2+deb11u2ubuntu0.22.04.1) ...\n",
            "Setting up libmad0:amd64 (0.15.1b-10ubuntu1) ...\n",
            "Setting up libwavpack1:amd64 (5.4.0-1build2) ...\n",
            "Setting up libopencore-amrnb0:amd64 (0.1.5-1) ...\n",
            "Setting up antiword (0.37-16) ...\n",
            "Setting up libsox-fmt-base:amd64 (14.4.2+git20190427-2+deb11u2ubuntu0.22.04.1) ...\n",
            "Setting up fonts-droid-fallback (1:6.0.1r16-1.1build1) ...\n",
            "Setting up poppler-utils (22.02.0-2ubuntu0.5) ...\n",
            "Setting up swig4.0 (4.0.2-1ubuntu1) ...\n",
            "Setting up libsox-fmt-mp3:amd64 (14.4.2+git20190427-2+deb11u2ubuntu0.22.04.1) ...\n",
            "Setting up libgs9-common (9.55.0~dfsg1-0ubuntu5.9) ...\n",
            "Setting up swig (4.0.2-1ubuntu1) ...\n",
            "Setting up libgs9:amd64 (9.55.0~dfsg1-0ubuntu5.9) ...\n",
            "Setting up ghostscript (9.55.0~dfsg1-0ubuntu5.9) ...\n",
            "Setting up sox (14.4.2+git20190427-2+deb11u2ubuntu0.22.04.1) ...\n",
            "Setting up pstotext (1.9-6build1) ...\n",
            "Processing triggers for libc-bin (2.35-0ubuntu3.4) ...\n",
            "/sbin/ldconfig.real: /usr/local/lib/libtbbbind_2_5.so.3 is not a symbolic link\n",
            "\n",
            "/sbin/ldconfig.real: /usr/local/lib/libur_loader.so.0 is not a symbolic link\n",
            "\n",
            "/sbin/ldconfig.real: /usr/local/lib/libtbb.so.12 is not a symbolic link\n",
            "\n",
            "/sbin/ldconfig.real: /usr/local/lib/libtbbbind_2_0.so.3 is not a symbolic link\n",
            "\n",
            "/sbin/ldconfig.real: /usr/local/lib/libtbbmalloc.so.2 is not a symbolic link\n",
            "\n",
            "/sbin/ldconfig.real: /usr/local/lib/libtbbmalloc_proxy.so.2 is not a symbolic link\n",
            "\n",
            "/sbin/ldconfig.real: /usr/local/lib/libur_adapter_opencl.so.0 is not a symbolic link\n",
            "\n",
            "/sbin/ldconfig.real: /usr/local/lib/libtbbbind.so.3 is not a symbolic link\n",
            "\n",
            "/sbin/ldconfig.real: /usr/local/lib/libur_adapter_level_zero.so.0 is not a symbolic link\n",
            "\n",
            "Processing triggers for man-db (2.10.2-1) ...\n",
            "Processing triggers for fontconfig (2.13.1-4.2ubuntu5) ...\n",
            "Collecting langchain\n",
            "  Downloading langchain-0.3.1-py3-none-any.whl.metadata (7.1 kB)\n",
            "Requirement already satisfied: PyYAML>=5.3 in /usr/local/lib/python3.10/dist-packages (from langchain) (6.0.2)\n",
            "Requirement already satisfied: SQLAlchemy<3,>=1.4 in /usr/local/lib/python3.10/dist-packages (from langchain) (2.0.35)\n",
            "Requirement already satisfied: aiohttp<4.0.0,>=3.8.3 in /usr/local/lib/python3.10/dist-packages (from langchain) (3.10.5)\n",
            "Requirement already satisfied: async-timeout<5.0.0,>=4.0.0 in /usr/local/lib/python3.10/dist-packages (from langchain) (4.0.3)\n",
            "Requirement already satisfied: langchain-core<0.4.0,>=0.3.6 in /usr/local/lib/python3.10/dist-packages (from langchain) (0.3.6)\n",
            "Collecting langchain-text-splitters<0.4.0,>=0.3.0 (from langchain)\n",
            "  Downloading langchain_text_splitters-0.3.0-py3-none-any.whl.metadata (2.3 kB)\n",
            "Requirement already satisfied: langsmith<0.2.0,>=0.1.17 in /usr/local/lib/python3.10/dist-packages (from langchain) (0.1.129)\n",
            "Requirement already satisfied: numpy<2,>=1 in /usr/local/lib/python3.10/dist-packages (from langchain) (1.26.4)\n",
            "Requirement already satisfied: pydantic<3.0.0,>=2.7.4 in /usr/local/lib/python3.10/dist-packages (from langchain) (2.9.2)\n",
            "Requirement already satisfied: requests<3,>=2 in /usr/local/lib/python3.10/dist-packages (from langchain) (2.32.3)\n",
            "Requirement already satisfied: tenacity!=8.4.0,<9.0.0,>=8.1.0 in /usr/local/lib/python3.10/dist-packages (from langchain) (8.5.0)\n",
            "Requirement already satisfied: aiohappyeyeballs>=2.3.0 in /usr/local/lib/python3.10/dist-packages (from aiohttp<4.0.0,>=3.8.3->langchain) (2.4.0)\n",
            "Requirement already satisfied: aiosignal>=1.1.2 in /usr/local/lib/python3.10/dist-packages (from aiohttp<4.0.0,>=3.8.3->langchain) (1.3.1)\n",
            "Requirement already satisfied: attrs>=17.3.0 in /usr/local/lib/python3.10/dist-packages (from aiohttp<4.0.0,>=3.8.3->langchain) (24.2.0)\n",
            "Requirement already satisfied: frozenlist>=1.1.1 in /usr/local/lib/python3.10/dist-packages (from aiohttp<4.0.0,>=3.8.3->langchain) (1.4.1)\n",
            "Requirement already satisfied: multidict<7.0,>=4.5 in /usr/local/lib/python3.10/dist-packages (from aiohttp<4.0.0,>=3.8.3->langchain) (6.1.0)\n",
            "Requirement already satisfied: yarl<2.0,>=1.0 in /usr/local/lib/python3.10/dist-packages (from aiohttp<4.0.0,>=3.8.3->langchain) (1.11.1)\n",
            "Requirement already satisfied: jsonpatch<2.0,>=1.33 in /usr/local/lib/python3.10/dist-packages (from langchain-core<0.4.0,>=0.3.6->langchain) (1.33)\n",
            "Requirement already satisfied: packaging<25,>=23.2 in /usr/local/lib/python3.10/dist-packages (from langchain-core<0.4.0,>=0.3.6->langchain) (24.1)\n",
            "Requirement already satisfied: typing-extensions>=4.7 in /usr/local/lib/python3.10/dist-packages (from langchain-core<0.4.0,>=0.3.6->langchain) (4.12.2)\n",
            "Requirement already satisfied: httpx<1,>=0.23.0 in /usr/local/lib/python3.10/dist-packages (from langsmith<0.2.0,>=0.1.17->langchain) (0.27.2)\n",
            "Requirement already satisfied: orjson<4.0.0,>=3.9.14 in /usr/local/lib/python3.10/dist-packages (from langsmith<0.2.0,>=0.1.17->langchain) (3.10.7)\n",
            "Requirement already satisfied: annotated-types>=0.6.0 in /usr/local/lib/python3.10/dist-packages (from pydantic<3.0.0,>=2.7.4->langchain) (0.7.0)\n",
            "Requirement already satisfied: pydantic-core==2.23.4 in /usr/local/lib/python3.10/dist-packages (from pydantic<3.0.0,>=2.7.4->langchain) (2.23.4)\n",
            "Requirement already satisfied: charset-normalizer<4,>=2 in /usr/local/lib/python3.10/dist-packages (from requests<3,>=2->langchain) (3.3.2)\n",
            "Requirement already satisfied: idna<4,>=2.5 in /usr/local/lib/python3.10/dist-packages (from requests<3,>=2->langchain) (3.10)\n",
            "Requirement already satisfied: urllib3<3,>=1.21.1 in /usr/local/lib/python3.10/dist-packages (from requests<3,>=2->langchain) (2.2.3)\n",
            "Requirement already satisfied: certifi>=2017.4.17 in /usr/local/lib/python3.10/dist-packages (from requests<3,>=2->langchain) (2024.8.30)\n",
            "Requirement already satisfied: greenlet!=0.4.17 in /usr/local/lib/python3.10/dist-packages (from SQLAlchemy<3,>=1.4->langchain) (3.1.1)\n",
            "Requirement already satisfied: anyio in /usr/local/lib/python3.10/dist-packages (from httpx<1,>=0.23.0->langsmith<0.2.0,>=0.1.17->langchain) (3.7.1)\n",
            "Requirement already satisfied: httpcore==1.* in /usr/local/lib/python3.10/dist-packages (from httpx<1,>=0.23.0->langsmith<0.2.0,>=0.1.17->langchain) (1.0.5)\n",
            "Requirement already satisfied: sniffio in /usr/local/lib/python3.10/dist-packages (from httpx<1,>=0.23.0->langsmith<0.2.0,>=0.1.17->langchain) (1.3.1)\n",
            "Requirement already satisfied: h11<0.15,>=0.13 in /usr/local/lib/python3.10/dist-packages (from httpcore==1.*->httpx<1,>=0.23.0->langsmith<0.2.0,>=0.1.17->langchain) (0.14.0)\n",
            "Requirement already satisfied: jsonpointer>=1.9 in /usr/local/lib/python3.10/dist-packages (from jsonpatch<2.0,>=1.33->langchain-core<0.4.0,>=0.3.6->langchain) (3.0.0)\n",
            "Requirement already satisfied: exceptiongroup in /usr/local/lib/python3.10/dist-packages (from anyio->httpx<1,>=0.23.0->langsmith<0.2.0,>=0.1.17->langchain) (1.2.2)\n",
            "Downloading langchain-0.3.1-py3-none-any.whl (1.0 MB)\n",
            "\u001b[2K   \u001b[90m━━━━━━━━━━━━━━━━━━━━━━━━━━━━━━━━━━━━━━━━\u001b[0m \u001b[32m1.0/1.0 MB\u001b[0m \u001b[31m12.6 MB/s\u001b[0m eta \u001b[36m0:00:00\u001b[0m\n",
            "\u001b[?25hDownloading langchain_text_splitters-0.3.0-py3-none-any.whl (25 kB)\n",
            "Installing collected packages: langchain-text-splitters, langchain\n",
            "Successfully installed langchain-0.3.1 langchain-text-splitters-0.3.0\n"
          ]
        }
      ],
      "source": [
        "!sudo apt -y -qq install tesseract-ocr libtesseract-dev\n",
        "\n",
        "!sudo apt-get -y -qq install poppler-utils libxml2-dev libxslt1-dev antiword unrtf poppler-utils pstotext tesseract-ocr flac ffmpeg lame libmad0 libsox-fmt-mp3 sox libjpeg-dev swig\n",
        "\n",
        "!pip install langchain"
      ]
    },
    {
      "cell_type": "code",
      "execution_count": 15,
      "metadata": {
        "colab": {
          "base_uri": "https://localhost:8080/"
        },
        "collapsed": true,
        "id": "OZf1lAEiyuuk",
        "outputId": "460756c3-373e-4bc3-844c-adb8430a2eaf"
      },
      "outputs": [
        {
          "name": "stdout",
          "output_type": "stream",
          "text": [
            "Collecting langchain-community\n",
            "  Downloading langchain_community-0.3.1-py3-none-any.whl.metadata (2.8 kB)\n",
            "Requirement already satisfied: PyYAML>=5.3 in /usr/local/lib/python3.10/dist-packages (from langchain-community) (6.0.2)\n",
            "Requirement already satisfied: SQLAlchemy<3,>=1.4 in /usr/local/lib/python3.10/dist-packages (from langchain-community) (2.0.35)\n",
            "Requirement already satisfied: aiohttp<4.0.0,>=3.8.3 in /usr/local/lib/python3.10/dist-packages (from langchain-community) (3.10.5)\n",
            "Collecting dataclasses-json<0.7,>=0.5.7 (from langchain-community)\n",
            "  Downloading dataclasses_json-0.6.7-py3-none-any.whl.metadata (25 kB)\n",
            "Requirement already satisfied: langchain<0.4.0,>=0.3.1 in /usr/local/lib/python3.10/dist-packages (from langchain-community) (0.3.1)\n",
            "Requirement already satisfied: langchain-core<0.4.0,>=0.3.6 in /usr/local/lib/python3.10/dist-packages (from langchain-community) (0.3.6)\n",
            "Requirement already satisfied: langsmith<0.2.0,>=0.1.125 in /usr/local/lib/python3.10/dist-packages (from langchain-community) (0.1.129)\n",
            "Requirement already satisfied: numpy<2,>=1 in /usr/local/lib/python3.10/dist-packages (from langchain-community) (1.26.4)\n",
            "Collecting pydantic-settings<3.0.0,>=2.4.0 (from langchain-community)\n",
            "  Downloading pydantic_settings-2.5.2-py3-none-any.whl.metadata (3.5 kB)\n",
            "Requirement already satisfied: requests<3,>=2 in /usr/local/lib/python3.10/dist-packages (from langchain-community) (2.32.3)\n",
            "Requirement already satisfied: tenacity!=8.4.0,<9.0.0,>=8.1.0 in /usr/local/lib/python3.10/dist-packages (from langchain-community) (8.5.0)\n",
            "Requirement already satisfied: aiohappyeyeballs>=2.3.0 in /usr/local/lib/python3.10/dist-packages (from aiohttp<4.0.0,>=3.8.3->langchain-community) (2.4.0)\n",
            "Requirement already satisfied: aiosignal>=1.1.2 in /usr/local/lib/python3.10/dist-packages (from aiohttp<4.0.0,>=3.8.3->langchain-community) (1.3.1)\n",
            "Requirement already satisfied: attrs>=17.3.0 in /usr/local/lib/python3.10/dist-packages (from aiohttp<4.0.0,>=3.8.3->langchain-community) (24.2.0)\n",
            "Requirement already satisfied: frozenlist>=1.1.1 in /usr/local/lib/python3.10/dist-packages (from aiohttp<4.0.0,>=3.8.3->langchain-community) (1.4.1)\n",
            "Requirement already satisfied: multidict<7.0,>=4.5 in /usr/local/lib/python3.10/dist-packages (from aiohttp<4.0.0,>=3.8.3->langchain-community) (6.1.0)\n",
            "Requirement already satisfied: yarl<2.0,>=1.0 in /usr/local/lib/python3.10/dist-packages (from aiohttp<4.0.0,>=3.8.3->langchain-community) (1.11.1)\n",
            "Requirement already satisfied: async-timeout<5.0,>=4.0 in /usr/local/lib/python3.10/dist-packages (from aiohttp<4.0.0,>=3.8.3->langchain-community) (4.0.3)\n",
            "Collecting marshmallow<4.0.0,>=3.18.0 (from dataclasses-json<0.7,>=0.5.7->langchain-community)\n",
            "  Downloading marshmallow-3.22.0-py3-none-any.whl.metadata (7.2 kB)\n",
            "Collecting typing-inspect<1,>=0.4.0 (from dataclasses-json<0.7,>=0.5.7->langchain-community)\n",
            "  Downloading typing_inspect-0.9.0-py3-none-any.whl.metadata (1.5 kB)\n",
            "Requirement already satisfied: langchain-text-splitters<0.4.0,>=0.3.0 in /usr/local/lib/python3.10/dist-packages (from langchain<0.4.0,>=0.3.1->langchain-community) (0.3.0)\n",
            "Requirement already satisfied: pydantic<3.0.0,>=2.7.4 in /usr/local/lib/python3.10/dist-packages (from langchain<0.4.0,>=0.3.1->langchain-community) (2.9.2)\n",
            "Requirement already satisfied: jsonpatch<2.0,>=1.33 in /usr/local/lib/python3.10/dist-packages (from langchain-core<0.4.0,>=0.3.6->langchain-community) (1.33)\n",
            "Requirement already satisfied: packaging<25,>=23.2 in /usr/local/lib/python3.10/dist-packages (from langchain-core<0.4.0,>=0.3.6->langchain-community) (24.1)\n",
            "Requirement already satisfied: typing-extensions>=4.7 in /usr/local/lib/python3.10/dist-packages (from langchain-core<0.4.0,>=0.3.6->langchain-community) (4.12.2)\n",
            "Requirement already satisfied: httpx<1,>=0.23.0 in /usr/local/lib/python3.10/dist-packages (from langsmith<0.2.0,>=0.1.125->langchain-community) (0.27.2)\n",
            "Requirement already satisfied: orjson<4.0.0,>=3.9.14 in /usr/local/lib/python3.10/dist-packages (from langsmith<0.2.0,>=0.1.125->langchain-community) (3.10.7)\n",
            "Requirement already satisfied: python-dotenv>=0.21.0 in /usr/local/lib/python3.10/dist-packages (from pydantic-settings<3.0.0,>=2.4.0->langchain-community) (1.0.1)\n",
            "Requirement already satisfied: charset-normalizer<4,>=2 in /usr/local/lib/python3.10/dist-packages (from requests<3,>=2->langchain-community) (3.3.2)\n",
            "Requirement already satisfied: idna<4,>=2.5 in /usr/local/lib/python3.10/dist-packages (from requests<3,>=2->langchain-community) (3.10)\n",
            "Requirement already satisfied: urllib3<3,>=1.21.1 in /usr/local/lib/python3.10/dist-packages (from requests<3,>=2->langchain-community) (2.2.3)\n",
            "Requirement already satisfied: certifi>=2017.4.17 in /usr/local/lib/python3.10/dist-packages (from requests<3,>=2->langchain-community) (2024.8.30)\n",
            "Requirement already satisfied: greenlet!=0.4.17 in /usr/local/lib/python3.10/dist-packages (from SQLAlchemy<3,>=1.4->langchain-community) (3.1.1)\n",
            "Requirement already satisfied: anyio in /usr/local/lib/python3.10/dist-packages (from httpx<1,>=0.23.0->langsmith<0.2.0,>=0.1.125->langchain-community) (3.7.1)\n",
            "Requirement already satisfied: httpcore==1.* in /usr/local/lib/python3.10/dist-packages (from httpx<1,>=0.23.0->langsmith<0.2.0,>=0.1.125->langchain-community) (1.0.5)\n",
            "Requirement already satisfied: sniffio in /usr/local/lib/python3.10/dist-packages (from httpx<1,>=0.23.0->langsmith<0.2.0,>=0.1.125->langchain-community) (1.3.1)\n",
            "Requirement already satisfied: h11<0.15,>=0.13 in /usr/local/lib/python3.10/dist-packages (from httpcore==1.*->httpx<1,>=0.23.0->langsmith<0.2.0,>=0.1.125->langchain-community) (0.14.0)\n",
            "Requirement already satisfied: jsonpointer>=1.9 in /usr/local/lib/python3.10/dist-packages (from jsonpatch<2.0,>=1.33->langchain-core<0.4.0,>=0.3.6->langchain-community) (3.0.0)\n",
            "Requirement already satisfied: annotated-types>=0.6.0 in /usr/local/lib/python3.10/dist-packages (from pydantic<3.0.0,>=2.7.4->langchain<0.4.0,>=0.3.1->langchain-community) (0.7.0)\n",
            "Requirement already satisfied: pydantic-core==2.23.4 in /usr/local/lib/python3.10/dist-packages (from pydantic<3.0.0,>=2.7.4->langchain<0.4.0,>=0.3.1->langchain-community) (2.23.4)\n",
            "Collecting mypy-extensions>=0.3.0 (from typing-inspect<1,>=0.4.0->dataclasses-json<0.7,>=0.5.7->langchain-community)\n",
            "  Downloading mypy_extensions-1.0.0-py3-none-any.whl.metadata (1.1 kB)\n",
            "Requirement already satisfied: exceptiongroup in /usr/local/lib/python3.10/dist-packages (from anyio->httpx<1,>=0.23.0->langsmith<0.2.0,>=0.1.125->langchain-community) (1.2.2)\n",
            "Downloading langchain_community-0.3.1-py3-none-any.whl (2.4 MB)\n",
            "\u001b[2K   \u001b[90m━━━━━━━━━━━━━━━━━━━━━━━━━━━━━━━━━━━━━━━━\u001b[0m \u001b[32m2.4/2.4 MB\u001b[0m \u001b[31m25.6 MB/s\u001b[0m eta \u001b[36m0:00:00\u001b[0m\n",
            "\u001b[?25hDownloading dataclasses_json-0.6.7-py3-none-any.whl (28 kB)\n",
            "Downloading pydantic_settings-2.5.2-py3-none-any.whl (26 kB)\n",
            "Downloading marshmallow-3.22.0-py3-none-any.whl (49 kB)\n",
            "\u001b[2K   \u001b[90m━━━━━━━━━━━━━━━━━━━━━━━━━━━━━━━━━━━━━━━━\u001b[0m \u001b[32m49.3/49.3 kB\u001b[0m \u001b[31m3.2 MB/s\u001b[0m eta \u001b[36m0:00:00\u001b[0m\n",
            "\u001b[?25hDownloading typing_inspect-0.9.0-py3-none-any.whl (8.8 kB)\n",
            "Downloading mypy_extensions-1.0.0-py3-none-any.whl (4.7 kB)\n",
            "Installing collected packages: mypy-extensions, marshmallow, typing-inspect, pydantic-settings, dataclasses-json, langchain-community\n",
            "Successfully installed dataclasses-json-0.6.7 langchain-community-0.3.1 marshmallow-3.22.0 mypy-extensions-1.0.0 pydantic-settings-2.5.2 typing-inspect-0.9.0\n"
          ]
        }
      ],
      "source": [
        "!pip install langchain-community"
      ]
    },
    {
      "cell_type": "code",
      "execution_count": 16,
      "metadata": {
        "id": "7EjS_0qMLwyb"
      },
      "outputs": [],
      "source": [
        "import urllib\n",
        "import warnings\n",
        "from pathlib import Path as p\n",
        "from pprint import pprint\n",
        "\n",
        "import pandas as pd\n",
        "from langchain import PromptTemplate\n",
        "from langchain.chains.question_answering import load_qa_chain\n",
        "from langchain.document_loaders import PyPDFLoader\n",
        "from langchain.text_splitter import RecursiveCharacterTextSplitter\n",
        "from langchain.vectorstores import Chroma\n",
        "from langchain.chains import RetrievalQA\n",
        "\n",
        "\n",
        "\n",
        "warnings.filterwarnings(\"ignore\")\n",
        "# restart python kernal if issues with langchain import."
      ]
    },
    {
      "cell_type": "code",
      "execution_count": 17,
      "metadata": {
        "id": "oBDSBBNRNi8x"
      },
      "outputs": [],
      "source": [
        "from langchain_google_genai import ChatGoogleGenerativeAI\n"
      ]
    },
    {
      "cell_type": "code",
      "execution_count": 18,
      "metadata": {
        "id": "HXXP0LCKN9pD"
      },
      "outputs": [],
      "source": [
        "model = ChatGoogleGenerativeAI(model=\"gemini-pro\",google_api_key=GOOGLE_API_KEY,\n",
        "                             temperature=0.2,convert_system_message_to_human=True)\n"
      ]
    },
    {
      "cell_type": "markdown",
      "metadata": {
        "id": "6fVI3d0BPaPQ"
      },
      "source": [
        "### Extract text from the PDF"
      ]
    },
    {
      "cell_type": "code",
      "execution_count": 34,
      "metadata": {
        "colab": {
          "base_uri": "https://localhost:8080/"
        },
        "id": "5Kz7Ek2KPKSy",
        "outputId": "036bf37f-bd20-4557-a8a3-f845d01fd86c"
      },
      "outputs": [
        {
          "name": "stdout",
          "output_type": "stream",
          "text": [
            "SCIENCE 130Heinrich Rudolph Hertz\n",
            "was born on 22 February\n",
            "1857 in Hamburg,\n",
            "Germany and educated at\n",
            "the University of Berlin. He\n",
            "confirmed J.C. Maxwell’s\n",
            "electromagnetic theory by\n",
            "his experiments. He laid the\n",
            "foundation for future\n",
            "development of radio, telephone, telegraph\n",
            "and even television. He also discovered the\n",
            "photoelectric effect which was later\n",
            "explained by Albert Einstein. The SI unit of\n",
            "frequency was named as hertz in his honour .Fig. 11.6(b) represent the density and\n",
            "pressure variations, respectively, as a sound\n",
            "wave propagates in the medium.\n",
            "Compressions are the regions where\n",
            "particles are crowded together and\n",
            "represented by the upper portion of the curve\n",
            "in Fig. 11.6(c). The peak represents the region\n",
            "of maximum compression. Thus,\n",
            "compressions are regions where density as\n",
            "well as pressure is high. Rarefactions are the\n",
            "regions of low pressure where particles are\n",
            "spread apart and are represented by the\n",
            "valley, that is, the lower portion of the curve\n",
            "in Fig. 11.6(c). A peak is called the crest and a\n",
            "valley is called the trough of a wave.\n",
            "The distance between two consecutive\n",
            "compressions (C) or two consecutive\n",
            "rarefactions (R) is called the wavelength, as\n",
            "shown in Fig. 11.6(c), The wavelength is\n",
            "usually represented by λ (Greek letter\n",
            "lambda). Its SI unit is metre (m).\n",
            "H. R. Hertz\n",
            "Fig. 11.6: Sound propagates as density or pressure variations as shown in (a) and (b), (c) represents\n",
            "graphically the density and pr essur e variations.Frequency tells us how frequently an\n",
            "event occurs. Suppose you are beating a\n",
            "drum. How many times you are beating the\n",
            "drum in unit time is called the frequency of\n",
            "your beating the drum. W e know that when\n",
            "sound is propagated through a medium, the\n",
            "Rationalised 2023-24\n",
            "\n"
          ]
        }
      ],
      "source": [
        "\n",
        "# For multiple documents lets go :\n",
        "\n",
        "from langchain.document_loaders import PyPDFDirectoryLoader\n",
        "\n",
        "# Specify the directory containing all your PDFs\n",
        "pdf_directory_loader = PyPDFDirectoryLoader(\"/content/\")\n",
        "\n",
        "# Load and split the documents (this will load all PDFs in the directory)\n",
        "documents = pdf_directory_loader.load()\n",
        "\n",
        "# Example: print the content of the 4th page of the first document\n",
        "print(documents[3].page_content)\n",
        "\n",
        "\n",
        "\n",
        "# pdf_loader = PyPDFLoader(\"/content/iesc111.pdf\")\n",
        "# pages = pdf_loader.load_and_split()\n",
        "# print(pages[3].page_content)\n"
      ]
    },
    {
      "cell_type": "code",
      "execution_count": 35,
      "metadata": {
        "id": "9WdWb5nM0tS2"
      },
      "outputs": [],
      "source": [
        "pages = documents"
      ]
    },
    {
      "cell_type": "code",
      "execution_count": 36,
      "metadata": {
        "colab": {
          "base_uri": "https://localhost:8080/"
        },
        "id": "c1nOlnQrZHau",
        "outputId": "dcc12ef1-cd45-44ca-c577-f36af458fff5"
      },
      "outputs": [
        {
          "data": {
            "text/plain": [
              "14"
            ]
          },
          "execution_count": 36,
          "metadata": {},
          "output_type": "execute_result"
        }
      ],
      "source": [
        "len(pages)"
      ]
    },
    {
      "cell_type": "markdown",
      "metadata": {
        "id": "QQ7OlzvWSRE1"
      },
      "source": [
        "### RAG Pipeline: Embedding + Gemini (LLM)"
      ]
    },
    {
      "cell_type": "code",
      "execution_count": 21,
      "metadata": {
        "id": "xCLmdnHYdoVx"
      },
      "outputs": [],
      "source": [
        "from langchain_google_genai import GoogleGenerativeAIEmbeddings"
      ]
    },
    {
      "cell_type": "code",
      "execution_count": 22,
      "metadata": {
        "id": "5VCQ2XiUSTOl"
      },
      "outputs": [],
      "source": [
        "text_splitter = RecursiveCharacterTextSplitter(chunk_size=10000, chunk_overlap=1000)\n",
        "context = \"\\n\\n\".join(str(p.page_content) for p in pages)\n",
        "texts = text_splitter.split_text(context)"
      ]
    },
    {
      "cell_type": "code",
      "execution_count": 23,
      "metadata": {
        "id": "oenB_PKkSpr_"
      },
      "outputs": [],
      "source": [
        "embeddings = GoogleGenerativeAIEmbeddings(model=\"models/embedding-001\",google_api_key=GOOGLE_API_KEY)"
      ]
    },
    {
      "cell_type": "code",
      "execution_count": 24,
      "metadata": {
        "id": "zRDgzSjsSZtG"
      },
      "outputs": [],
      "source": [
        "vector_index = Chroma.from_texts(texts, embeddings).as_retriever(search_kwargs={\"k\":5})\n"
      ]
    },
    {
      "cell_type": "code",
      "execution_count": 25,
      "metadata": {
        "id": "a3CrM0l3Hc__"
      },
      "outputs": [],
      "source": [
        "qa_chain = RetrievalQA.from_chain_type(\n",
        "    model,\n",
        "    retriever=vector_index,\n",
        "    return_source_documents=True\n",
        "\n",
        ")"
      ]
    },
    {
      "cell_type": "code",
      "execution_count": 27,
      "metadata": {
        "colab": {
          "base_uri": "https://localhost:8080/",
          "height": 53
        },
        "id": "C683CMhDHtA8",
        "outputId": "2ed66bfb-af11-40cb-d836-1edf01eb1fd5"
      },
      "outputs": [
        {
          "name": "stderr",
          "output_type": "stream",
          "text": [
            "WARNING:chromadb.segment.impl.vector.local_hnsw:Number of requested results 5 is greater than number of elements in index 4, updating n_results = 4\n"
          ]
        },
        {
          "data": {
            "application/vnd.google.colaboratory.intrinsic+json": {
              "type": "string"
            },
            "text/plain": [
              "'Sound is a form of energy which produces a sensation of hearing in our ears.'"
            ]
          },
          "execution_count": 27,
          "metadata": {},
          "output_type": "execute_result"
        }
      ],
      "source": [
        "question = \"what is sound\"\n",
        "result = qa_chain({\"query\": question})\n",
        "result[\"result\"]"
      ]
    },
    {
      "cell_type": "code",
      "execution_count": 28,
      "metadata": {
        "colab": {
          "base_uri": "https://localhost:8080/",
          "height": 46
        },
        "id": "gR9NB2OLIp7I",
        "outputId": "b2335714-6c8c-48a0-af3d-7dc74c4acfa6"
      },
      "outputs": [
        {
          "data": {
            "text/markdown": [
              "Sound is a form of energy which produces a sensation of hearing in our ears."
            ],
            "text/plain": [
              "<IPython.core.display.Markdown object>"
            ]
          },
          "execution_count": 28,
          "metadata": {},
          "output_type": "execute_result"
        }
      ],
      "source": [
        "Markdown(result[\"result\"])"
      ]
    },
    {
      "cell_type": "code",
      "execution_count": 29,
      "metadata": {
        "colab": {
          "base_uri": "https://localhost:8080/"
        },
        "id": "_JExbG1VNcDZ",
        "outputId": "035ad86e-9061-4c83-e54f-b31b20daa56b"
      },
      "outputs": [
        {
          "data": {
            "text/plain": [
              "[Document(metadata={}, page_content='Everyday we hear sounds from various\\nsources like humans, bir ds, bells, machines,\\nvehicles, televisions, radios etc. Sound is a\\nform of ener gy which pr oduces a sensation\\nof hearing in our ears. Ther e are also other\\nforms of energy like mechanical energy, light\\nenergy, etc. W e have talked about mechanical\\nenergy in the pr evious chapters. Y ou have\\nbeen taught about conservation of energy,\\nwhich states that we can neither create nor\\ndestr oy ener gy. W e  can just change it fr om\\none for m to another . When you clap, a sound\\nis produced. Can you produce sound without\\nutilising your energy? Which form of energy\\ndid you use to produce sound? In this\\nchapter we are going to learn how sound is\\nproduced and how it is transmitted through\\na medium and received by our ears.\\n11.1 Production of Sound\\nActivity _____________ 11.1\\n•Take a tuning fork and set it vibrating\\nby striking its pr ong on a rubber pad.\\nBring it near your ear .\\n•Do you hear any sound?\\n•Touch one of the pr ongs of the vibrating\\ntuning fork with your finger and shar e\\nyour experience with your friends.\\n•Now, suspend a table tennis ball or a\\nsmall plastic ball by a thr ead fr om a\\nsupport [T ake a big needle and a\\nthread, put a knot at one end of the\\nthread, and then with the help of the\\nneedle pass the thr ead thr ough the\\nball]. T ouch the ball gently with the\\nprong of a vibrating tuning\\nfork (Fig. 11.1).\\n•Observe what happens and discuss\\nwith your friends.Activity _____________ 11.2\\n•Fill water in a beaker or a glass up to\\nthe brim. Gently touch the water sur face\\nwith one of the pr ongs of the vibrating\\ntuning fork, as shown in Fig. 1 1.2.\\n•Next dip the pr ongs of the vibrating\\ntuning fork in water , as shown in Fig.\\n11.3.\\n•Observe what happens in both the\\ncases.\\n•Discuss with your friends why this\\nhappens.Fig. 11.1:  Vibrating tuning fork just touching the\\nsuspended table tennis ball.\\nFig. 11.2:   One of the prongs of the vibrating tuning\\nfork touching the water sur face.11\\nSSS\\nSSOUND OUNDOUND OUNDOUNDChapter\\nRationalised 2023-24\\n\\nSCIENCE 128the vibrating object to the ear . A particle of\\nthe medium in contact with the vibrating\\nobject is first displaced fr om its equilibrium\\nposition. It then exerts a for ce on the adjacent\\nparticle. As a r esult of which the adjacent\\nparticle gets displaced fr om its position of\\nrest. After displacing the adjacent particle the\\nfirst particle comes back to its original\\nposition. This pr ocess continues in the\\nmedium till the sound r eaches your ear . The\\ndisturbance created by a source of  sound in\\nthe medium travels through the medium and\\nnot the particles of the medium.\\nA wave is a disturbance that moves\\nthrough a medium when the particles of the\\nmedium set neighbouring particles into\\nmotion. They in tur n produce similar motion\\nin others. The particles of the medium do not\\nmove forwar d themselves, but the\\ndisturbance is carried forwar d. This is what\\nhappens during pr opagation of sound in a\\nmedium, hence sound can be visualised as a\\nwave. Sound waves are characterised by the\\nmotion of particles in the medium and ar e\\ncalled mechanical waves.\\nAir is the most common medium thr ough\\nwhich sound travels. When a vibrating object\\nmoves forward, it pushes and compresses the\\nair in front of it creating a region of high\\npressur e. This r egion is called a compr ession\\n(C), as shown in Fig. 11.4. This compression\\nstarts to move away from the vibrating object.\\nWhen the vibrating object moves backwar ds,\\nit creates a r egion of low pr essur e called\\nrarefaction (R), as shown in Fig. 11.4. As the\\nobject moves back and forth rapidly, a series\\nof compressions and rarefactions is created in\\nthe air . These make the sound wave thatFig. 11.3: Both the prongs of the vibrating tuning\\nfork dipped in water\\nFrom the above activities what do you\\nconclude? Can you pr oduce sound without\\na vibrating object?\\nIn the above activities we have pr oduced\\nsound by striking the tuning fork. W e can\\nalso pr oduce sound by plucking, scratching,\\nrubbing, blowing or shaking dif ferent objects.\\nAs per the above activities what do we do to\\nthe objects? W e set the objects vibrating and\\nproduce sound. V ibration means a kind of\\nrapid to and fr o motion of an object. The\\nsound of the human voice is pr oduced due\\nto vibrations in the vocal cor ds. When a bir d\\nflaps its wings, do you hear any sound? Think\\nhow the buzzing sound accompanying a bee\\nis produced. A str etched rubber band when\\nplucked vibrates and produces sound. If you\\nhave never done this, then do it and observe\\nthe vibration of the str etched rubber band.\\nActivity _____________ 11.3\\n•Make a list of different types of\\nmusical instruments and discuss\\nwith your friends which part of the\\ninstrument vibrates to produce\\nsound.\\n11.2Propagation of Sound\\nSound is pr oduced by vibrating objects. The\\nmatter or substance thr ough which sound\\nis transmitted is called a medium. It can be\\nsolid, liquid or gas. Sound moves thr ough a\\nmedium from the point of generation to the\\nlistener . When an object vibrates, it sets the\\nparticles of the medium ar ound it vibrating.\\nThe particles do not travel all the way fromFig. 11.4: A vibrating object creating a series of\\ncompr essions (C) and rar efactions (R) in\\nthe medium.\\nRationalised 2023-24\\n\\nSOUND 129propagates through the medium.\\nCompr ession is the r egion of high pr essur e\\nand rar efaction is the r egion of low pr essur e.\\nPressur e is related to the number of particles\\nof a medium in a given volume. Mor e density\\nof the particles in the medium gives mor e\\npressur e and vice versa. Thus, pr opagation\\nof sound can be visualised as pr opagation of\\ndensity variations or pr essur e variations in\\nthe medium.\\nuestion\\n1.How does the sound produced by\\na vibrating object in a medium\\nreach your ear?\\n2.Explain how sound is produced\\nby your school bell.\\n3.Why are sound waves called\\nmechanical waves?\\n4.Suppose you and your friend are\\non the moon. W ill you be able to\\nhear any sound pr oduced by\\nyour friend?\\n11.2.1 SOUND  WAVES  ARE LONGITUDINAL\\nWAVES\\nActivity _____________ 11.4\\n•Take a slinky.  Ask your friend to hold\\none end. Y ou hold the other end.\\nNow str etch the slinky as shown in\\nFig. 11.5(a). Then give it a sharp push\\ntowards your friend.\\n•What do you notice? If you move your\\nhand pushing and pulling the slinky\\nalternatively, what will you observe?\\n•If you mark a dot on the slinky, you\\nwill observe that the dot on the slinky\\nwill move back and forth parallel to\\nthe direction of the propagation of the\\ndisturbance.The regions where the coils become closer\\nare called compressions (C) and the regions\\nwhere the coils are further apart are called\\nrarefactions (R). As we already know, sound\\npropagates in the medium as a series of\\ncompressions and rarefactions. Now, we can\\ncompare the propagation of disturbance in a\\nslinky with the sound propagation in the\\nmedium. These waves are called longitudinal\\nwaves. In these waves the individual particles\\nof the medium move in a direction parallel to\\nthe direction of propagation of the disturbance.\\nThe particles do not move from one place to\\nanother but they simply oscillate back and\\nforth about their position of rest. This is\\nexactly how a sound wave propagates, hence\\nsound waves are longitudinal waves.\\nThere is also another type of wave, called\\na transverse wave. In a transverse wave\\nparticles do not oscillate along the direction\\nof wave propagation but oscillate up and down\\nabout their mean position as the wave travels.\\nThus, a transverse wave is the one in which\\nthe individual particles of the medium move\\nabout their mean positions in a direction\\nperpendicular to the direction of wave\\npropagation. When we drop a pebble in a\\npond, the waves you see on the water surface\\nis an example of transverse wave. Light is a\\ntransverse wave but for light, the oscillations\\nare not of the medium particles or their\\npressure or density— it is not a mechanical\\nwave. Y ou will come to know mor e about\\ntransverse waves in higher classes.\\n11.2.2 CHARACTERISTICS  OF A SOUND\\nWAVE\\nWe can describe a sound wave by its\\n•frequency\\n•amplitude and\\n•speed.Q\\nA sound wave in graphic form is shown in\\nFig. 11.6(c), which represents how density and\\npressure change when the sound wave moves\\nin the medium. The density as well as the\\npressure of the medium at a given time varies\\nwith distance, above and below the average\\nvalue of density and pressure. Fig. 11.6(a) and(b)(a)\\nFig. 11.5:  Longitudinal wave in a slinky.\\nRationalised 2023-24'),\n",
              " Document(metadata={}, page_content='SCIENCE 136squeaks of the bat and know when a bat\\nis flying nearby, and are able to escape\\ncapture. Rats also play games by\\nproducing ultrasound.\\nHearing Aid:  People with hearing loss may\\nneed a hearing aid. A hearing aid is an\\nelectronic, battery operated device. The\\nhearing aid receives sound through a\\nmicrophone. The microphone converts the\\nsound waves to electrical signals. These\\nelectrical signals are amplified by an\\namplifier . The amplified electrical signals\\nare given to a speaker of the hearing aid.\\nThe speaker converts the amplified\\nelectrical signal to sound and sends to the\\near for clear hearing.in construction of big structures like\\nbuildings, bridges, machines and also\\nscientific equipment. The cracks or\\nholes inside the metal blocks, which\\nare invisible from outside reduces the\\nstrength of the structure. Ultrasonic\\nwaves are allowed to pass through the\\nmetal block and detectors are used to\\ndetect the transmitted waves. If there\\nis even a small defect, the ultrasound\\ngets reflected back indicating the\\npresence of the flaw or defect, as shown\\nin Fig. 11.14.\\nQ\\nMetallic components are generally useduestions\\n1.What is the audible range of the\\naverage human ear?\\n2.What is the range of frequencies\\nassociated with\\n(a)Infrasound?\\n(b)Ultrasound?\\n11.5Applications of Ultrasound\\nUltrasounds are high frequency waves.\\nUltrasounds are able to travel along well-\\ndefined paths even in the presence of\\nobstacles. Ultrasounds are used extensively\\nin industries and for medical purposes.\\n•Ultrasound is generally used to clean\\nparts located in hard-to-reach places,\\nfor example, spiral tube, odd shaped\\nparts, electronic components, etc.\\nObjects to be cleaned are placed in a\\ncleaning solution and ultrasonic waves\\nare sent into the solution. Due to\\nthe high frequency, the particles of\\ndust, grease and dirt get detached and\\ndrop out. The objects thus get\\nthoroughly cleaned.\\n•Ultrasounds can be used to detect\\ncracks and flaws in metal blocks.Fig 11.14:  Ultrasound is reflected back from the\\ndefective locations inside a metal block.\\nOrdinary sound of longer wavelengths\\ncannot be used for such purpose as it will\\nbend around the corners of the defective\\nlocation and enter the detector .\\n•Ultrasonic waves are made to reflect\\nfrom various parts of the heart and\\nform the image of the heart. This  tech-\\nnique is called ‘echocardiography’.\\n•Ultrasound scanner is an instrument\\nwhich uses ultrasonic waves for\\ngetting images of internal organs of the\\nhuman body. A doctor may image the\\npatient’s or gans, such as the liver , gall\\nbladder , uterus, kidney, etc. It helps\\nthe doctor to detect abnormalities,\\nsuch as stones in the gall bladder and\\nkidney or tumours in different organs.\\nIn this technique the ultrasonic waves\\ntravel through the tissues of the body\\nand get reflected from a region where\\nthere is a change of tissue density.\\nRationalised 2023-24\\n\\nSOUND 137What\\nyou have\\nlearnt\\n• Sound is produced due to vibration of different objects.\\n• Sound travels as a longitudinal wave through a material\\nmedium.\\n• Sound travels as successive compressions and rarefactions\\nin the medium.\\n• In sound propagation, it is the energy of the sound that\\ntravels and not the particles of the medium.\\n• The change in density from one maximum value to the\\nminimum value and again to the maximum value makes\\none complete oscillation.\\n• The distance between two consecutive compressions or two\\nconsecutive rarefactions is called the wavelength, λ.\\n• The time taken by the wave for one complete oscillation of\\nthe density or pressure of the medium is called the time\\nperiod, T.\\n• The number of complete oscillations per unit time is called\\nthe frequency (ν ), 1=v.T\\n• The speed v, frequency ν, and wavelength λ, of sound are\\nrelated by the equation, v  = λν.\\n• The speed of sound depends primarily on the nature and\\nthe temperature of the transmitting medium.\\n• The law of reflection of sound states that the directions in\\nwhich the sound is incident and reflected make equal angles\\nwith the normal to the reflecting surface at the point of\\nincidence and the three lie in the same plane.\\n• For hearing a distinct sound, the time interval between the\\noriginal sound and the reflected one must be at least 0.1 s.\\n• The persistence of sound in an auditorium is the result of\\nrepeated reflections of sound and is called reverberation.These waves are then converted into\\nelectrical signals that are used to\\ngenerate images of the organ. These\\nimages are then displayed on a monitor\\nor printed on a film. This technique\\nis called ‘ultrasonography’.\\nUltrasonography is also used forexamination of the foetus during\\npregnancy to detect congenial defects\\nand growth abnormalities.\\n•Ultrasound may be employed to break\\nsmall ‘stones’ formed in the kidneys\\ninto fine grains. These grains later get\\nflushed out with urine.\\nRationalised 2023-24\\n\\nSCIENCE 138• Loudness is a physiological response of the ear to the intensity\\nof sound.\\n• The amount of sound energy passing each second through\\nunit area is called the intensity of sound.\\n• The audible range of hearing for average human beings is in\\nthe frequency range of 20 Hz – 20 kHz.\\n• Sound waves with frequencies below the audible range are\\ntermed “infrasonic” and those above the audible range are\\ntermed “ultrasonic”.\\n• Ultrasound has many medical and industrial applications.\\nExercises\\n1.What is sound and how is it produced?\\n2.Describe with the help of a diagram, how compressions and\\nrarefactions are produced in air near a source of sound.\\n3.Why is sound wave called a longitudinal wave?\\n4.Which characteristic of the sound helps you to identify your\\nfriend by his voice while sitting with others in a dark room?\\n5.Flash and thunder are produced simultaneously. But\\nthunder is heard a few seconds after the flash is seen, why?\\n6.A person has a hearing range from 20 Hz to 20 kHz. What\\nare the typical wavelengths of sound waves in air\\ncorresponding to these two frequencies? Take the speed of\\nsound in air as 344 m s–1.\\n7.Two children are at opposite ends of an aluminium rod. One\\nstrikes the end of the rod with a stone. Find the ratio of\\ntimes taken by the sound wave in air and in aluminium to\\nreach the second child.\\n8.The frequency of a source of sound is 100 Hz. How many\\ntimes does it vibrate in a minute?\\n9.Does sound follow the same laws of reflection as light does?\\nExplain.\\n10. When a sound is reflected from a distant object, an echo is\\nproduced. Let the distance between the reflecting surface\\nand the source of sound production remains the same. Do\\nyou hear echo sound on a hotter day?\\n11. Give two practical applications of reflection of sound waves.\\n12. A stone is dropped from the top of a tower 500 m high into a\\npond of water at the base of the tower . When is the splash\\nheard at the top? Given, g = 10 m s–2 and speed of sound  =\\n340 m s–1.• Sound properties such as pitch, loudness and quality are\\ndetermined by the corresponding wave properties.\\nRationalised 2023-24\\n\\nSOUND 13913. A sound wave travels at a speed of 339 m s–1. If its wavelength\\nis 1.5 cm, what is the frequency of the wave? Will it be\\naudible?\\n14. What is reverberation? How can it be reduced?\\n15. What is loudness of sound? What factors does it depend on?\\n16. How is ultrasound used for cleaning?\\n17. Explain how defects in a metal block can be detected using\\nultrasound.\\nRationalised 2023-24'),\n",
              " Document(metadata={}, page_content='SCIENCE 130Heinrich Rudolph Hertz\\nwas born on 22 February\\n1857 in Hamburg,\\nGermany and educated at\\nthe University of Berlin. He\\nconfirmed J.C. Maxwell’s\\nelectromagnetic theory by\\nhis experiments. He laid the\\nfoundation for future\\ndevelopment of radio, telephone, telegraph\\nand even television. He also discovered the\\nphotoelectric effect which was later\\nexplained by Albert Einstein. The SI unit of\\nfrequency was named as hertz in his honour .Fig. 11.6(b) represent the density and\\npressure variations, respectively, as a sound\\nwave propagates in the medium.\\nCompressions are the regions where\\nparticles are crowded together and\\nrepresented by the upper portion of the curve\\nin Fig. 11.6(c). The peak represents the region\\nof maximum compression. Thus,\\ncompressions are regions where density as\\nwell as pressure is high. Rarefactions are the\\nregions of low pressure where particles are\\nspread apart and are represented by the\\nvalley, that is, the lower portion of the curve\\nin Fig. 11.6(c). A peak is called the crest and a\\nvalley is called the trough of a wave.\\nThe distance between two consecutive\\ncompressions (C) or two consecutive\\nrarefactions (R) is called the wavelength, as\\nshown in Fig. 11.6(c), The wavelength is\\nusually represented by λ (Greek letter\\nlambda). Its SI unit is metre (m).\\nH. R. Hertz\\nFig. 11.6: Sound propagates as density or pressure variations as shown in (a) and (b), (c) represents\\ngraphically the density and pr essur e variations.Frequency tells us how frequently an\\nevent occurs. Suppose you are beating a\\ndrum. How many times you are beating the\\ndrum in unit time is called the frequency of\\nyour beating the drum. W e know that when\\nsound is propagated through a medium, the\\nRationalised 2023-24\\n\\nSOUND 131How the brain interprets the frequency\\nof an emitted sound is called its pitch. The\\nfaster the vibration of the source, the\\nhigher is the frequency and the higher is\\nthe pitch, as shown in Fig. 11.7. Thus, a\\nhigh pitch sound corresponds to more\\nnumber of compressions and rarefactions\\npassing a fixed point per unit time.\\nObjects of different sizes and conditions\\nvibrate at different frequencies to produce\\nsounds of different pitch.\\nThe magnitude of the maximum\\ndisturbance in the medium on either side of\\nthe mean value is called the amplitude of the\\nwave. It is usually represented by the letter A,as shown in Fig. 11.6(c). For sound its unit\\nwill be that of density or pressure.\\nThe loudness or softness of a sound is\\ndetermined basically by its amplitude. The\\namplitude of the sound wave depends upon\\nthe force with which an object is made to\\nvibrate. If we strike a table lightly, we hear a\\nsoft sound because we produce a sound wavedensity of the medium oscillates between a\\nmaximum value and a minimum value. The\\nchange in density from the maximum value\\nto the minimum value, then again to the\\nmaximum value, makes one complete\\noscillation. The number of such oscillations\\nper unit time is the frequency of the sound\\nwave. If we can count the number of the\\ncompressions or rarefactions that cross us\\nper unit time, we will get the frequency of\\nthe sound wave. It is usually represented by\\nν (Greek letter , nu). Its SI unit is hertz\\n(symbol, Hz).\\nThe time taken by two consecutive\\ncompressions or rarefactions to cross a fixed\\npoint is called the time period of the wave. In\\nother words, we can say that the time taken\\nfor one complete oscillation is called the time\\nperiod of the sound wave. It is represented by\\nthe symbol T. Its SI unit is second (s).\\nFrequency and time period are related as\\nfollows:\\n A violin and a flute may both be played at\\nthe same time in an orchestra. Both sounds\\ntravel through the same medium, that is, air\\nand arrive at our ear at the same time. Both\\nsounds travel at the same speed irrespective\\nof the source. But the sounds we receive are\\ndifferent. This is due to the different\\ncharacteristics associated with the sound.\\nPitch is one of the characteristics.=1vTFig. 11.7:  Low pitch sound has low frequency and\\nhigh pitch of sound has high frequency.\\nFig. 11.8: Soft sound has small amplitude and\\nlouder sound has large amplitude.\\nRationalised 2023-24\\n\\nSCIENCE 132QQuestions\\n1.Which wave property determines\\n(a) loudness, (b) pitch?\\n2.Guess which sound has a higher\\npitch: guitar or car horn?\\nThe speed of sound is defined as the\\ndistance which a point on a wave, such as a\\ncompression or a rarefaction, travels per unit\\ntime.\\nWe know,\\nspeed, v = distance / time\\n= λ\\nTExample 11.1 A sound wave has a\\nfrequency of 2 kHz and wave length\\n35 cm. How long will it take to travel\\n1.5 km?\\nSolution:\\nGiven,\\nFrequency, ν = 2 kHz = 2000 Hz\\nWavelength, λ = 35 cm = 0.35 m\\nWe know that speed, v of the wave\\n= wavelength × frequency\\nv= λ ν\\n= 0.35 m  2000 Hz = 700 m/s\\nThe time taken by the wave to travel a\\ndistance, d of 1.5 km is\\nThus sound will take 2.1 s to travel a\\ndistance of 1.5 km.\\nuestions\\n1.What ar e wavelength, fr equency,\\ntime period and amplitude of a\\nsound wave?\\n2.How are the wavelength and\\nfrequency of a sound wave\\nrelated to its speed?\\n3.Calculate the wavelength of a\\nsound wave whose fr equency is\\n220 Hz and speed is 440 m/s  in\\na given medium.\\n4.A person is listening to a tone of\\n500 Hz sitting at a distance of\\n450 m from the source of the\\nsound. What is the time interval\\nbetween successive compr essions\\nfrom the source?\\nThe amount of sound energy passing each\\nsecond through unit area is called the intensity\\nof sound. W e sometimes use the ter ms\\n“loudness” and “intensity” interchangeably,\\nbut they are not the same. Loudness is a\\nmeasure of the response of the ear to the sound.\\nEven when two sounds are of equal intensity,\\nwe may hear one as louder than the other\\nsimply because our ear detects it better .of less energy (amplitude). If we hit the table\\nhard we hear a louder sound. Can you tell\\nwhy? A sound wave spreads out from its\\nsource. As it moves away from the source its\\namplitude as well as its loudness decreases.\\nLouder sound can travel a larger distance as\\nit is associated with higher energy. Fig. 11.8\\nshows the wave shapes of a loud and a soft\\nsound of the same frequency.\\nThe quality or timber of sound is that\\ncharacteristic which enables us to distinguish\\none sound from another having the same pitch\\nand loudness. The sound which is more\\npleasant is said to be of a rich quality. A sound\\nof single frequency is called a tone. The sound\\nwhich is produced due to a mixture of several\\nfrequencies is called a note and is pleasant to\\nlisten to. Noise is unpleasant to the ear! Music\\nis pleasant to hear and is of rich quality.\\nHere λ is the wavelength of the sound wave. It\\nis the distance travelled by the sound wave in\\none time period ( T) of the wave. Thus,\\nv = λ ν \\nor v = λ ν\\nThat is, speed = wavelength × frequency.\\nThe speed of sound remains almost the\\nsame for all frequencies in a given medium\\nunder the same physical conditions.\\nRationalised 2023-24\\n\\nSOUND 133uestion\\n1.Distinguish between loudness\\nand intensity of sound.uestion\\n1.In which of the thr ee media, air ,\\nwater or iron, does sound travel\\nthe fastest at a particular\\ntemperature?\\n11.3 Reflection of Sound\\nSound bounces off a solid or a liquid like a\\nrubber ball bounces off a wall. Like light, sound\\ngets reflected at the surface of a solid or liquid\\nand follows the same laws of reflection as you\\nhave studied in earlier classes. The directions\\nin which the sound is incident and is reflected\\nmake equal angles with the normal to the\\nreflecting surface at the point of incidence, and\\nthe three are in the same plane. An obstacle of\\nlarge size which may be polished or rough is\\nneeded for the reflection of sound waves.\\nActivity _____________ 11.5\\n•Take two identical pipes, as shown in\\nFig. 11.9. Y ou can make the pipes\\nusing chart paper . The length of the\\npipes should be sufficiently long\\nas shown.\\n•Arrange them on a table near a wall.\\n•Keep a clock near the open end of one\\nof the pipes and try to hear the sound\\nof the clock through the other pipe.\\n•Adjust the position of the pipes so\\nthat you can best hear the sound of\\nthe clock.\\n•Now, measure the angles of incidence\\nand reflection and see the\\nrelationship between the angles.\\n•Lift the pipe on the right vertically\\nto a small height and observe\\nwhat happens.\\n(In place of a clock, a mobile phone\\non vibrating mode may also be used.)QQ\\n11.2.3 SPEED OF SOUND  IN DIFFERENT\\nMEDIA\\nSound propagates through a medium at a finite\\nspeed. The sound of a thunder is heard  a little\\nlater than the flash of light is seen. So, we can\\nmake out that sound travels with a speed\\nwhich is much less than the speed of light. The\\nspeed of sound depends on the properties of\\nthe medium thr ough which it travels. Y ou will\\nlearn about this dependence in higher classes.\\nThe speed of sound in a medium depends on\\ntemperature of the medium. The speed of\\nsound decreases when we go from solid to\\ngaseous state. In any medium as we increase\\nthe temperature, the speed of sound increases.\\nFor example, the speed of sound in air is 331\\nm s–1 at 0 ºC and 344 m s–1 at 22 ºC. The speeds\\nof sound at a particular temperature in various\\nmedia ar e listed in T able 11.1. Y ou need not\\nmemorise the values.\\nTable 11.1: Speed of sound in\\ndifferent media at 25 ºC\\nState Substance Speed in m/s\\nSolids Aluminium 6420\\nNickel 6040\\nSteel 5960\\nIron 5950\\nBrass 4700\\nGlass (Flint) 3980\\nLiquids Water (Sea) 1531\\nWater (distilled) 1498\\nEthanol 1207\\nMethanol 1103\\nGases Hydrogen 1284\\nHelium 965\\nAir 346\\nOxygen 316\\nSulphur dioxide 213Fig. 11.9:  Reflection of sound\\nRationalised 2023-24'),\n",
              " Document(metadata={}, page_content='SCIENCE 13411.3.1 ECHO\\nIf we shout or clap near a suitable reflecting\\nobject such as a tall building or a\\nmountain,we will hear the same sound\\nagain a little  later . This sound which we\\nhear is called an echo. The sensation of\\nsound persists in our brain for about 0.1\\ns. To hear a distinct echo the time interval\\nbetween the original sound and the\\nreflected one must be  at least 0.1s. If we\\ntake the speed of sound to be 344 m/s at a\\ngiven temperatur e, say at 22 ºC in air , the\\nsound must go to the obstacle and reach\\nback the ear of the listener on reflection after\\n0.1s. Hence, the total distance covered by\\nthe sound from the point of generation to\\nthe reflecting surface and back should be\\nat least (344 m/s) × 0.1 s = 34.4 m. Thus,\\nfor hearing distinct echoes, the minimum\\ndistance of the obstacle from the source of\\nsound must be half of this distance, that\\nis, 17.2 m. This distance will change with\\nthe temperatur e of air . Echoes may be hear d\\nmore than once due to successive or\\nmultiple reflections. The rolling of thunder\\nis due to the successive reflections of the\\nsound from a number of reflecting surfaces,\\nsuch as the clouds and the land.\\n11.3.2 REVERBERATION\\nA sound created in a big hall will persist\\nby repeated reflection from the walls until\\nit is reduced to a value where it is no longer\\naudible. The repeated reflection that\\nresults in this persistence of sound is\\ncalled reverberation. In an auditorium or\\nbig hall excessive reverberation is highly\\nundesirable. To reduce reverberation, the\\nroof and walls of the auditorium are\\ngenerally covered with sound-absorbent\\nmaterials like compressed fibreboard,\\nrough plaster or draperies. The seat\\nmaterials are also selected on the basis of\\ntheir sound absorbing properties.\\nExample 11.2  A person clapped his hands\\nnear a cliff and heard the echo after 2 s.What is the distance of the cliff from the\\nperson if the speed of the sound, v is\\ntaken as 346 m s–1?\\nSolution:\\nGiven,\\nSpeed of sound, v = 346 m s–1\\nTime taken for hearing the echo,\\nt = 2 s\\nDistance travelled by the sound\\n= v × t = 346 m s–1 × 2 s = 692 m\\nIn 2 s sound has to travel twice the\\ndistance between the cliff and the\\nperson. Hence, the distance between the\\ncliff and the person\\n= 692 m/2 = 346 m.\\nQ\\nHorn\\nMegaphone\\nFig 11.10:   A megaphone and a horn.uestion\\n1.An echo is heard in 3 s. What is\\nthe distance of the reflecting\\nsurface from the source, given that\\nthe speed of sound is  342  m s–1?\\n11.3.3 USES OF MULTIPLE  REFLECTION\\nOF SOUND\\n1.Megaphones or loudhailers, horns,\\nmusical instruments such as trumpets\\nand shehanais , are all designed to send\\nsound in a particular direction without\\nspreading it in all directions, as shown\\nin Fig 11.10.\\nRationalised 2023-24\\n\\nSOUND 1352.Stethoscope is a medical instrument\\nused for listening to sounds produced\\nwithin the body, mainly in the heart or\\nlungs. In stethoscopes the sound of the\\npatient’s heartbeat reaches the doctor’s\\nears by multiple reflection of sound, as\\nshown in Fig.11.11.\\nFig. 11.12:  Curved ceiling of a conference hall.Fig. 11.13:  Sound board used in a big hall.\\nuestion\\n1.Why are the ceilings of concert\\nhalls curved?\\n11.4Range of Hearing\\nThe audible range of sound for human beings\\nextends from about 20 Hz to 20000 Hz (one\\nHz = one cycle/s). Children under the age of\\nfive and some animals, such as dogs can hear\\nup to 25 kHz (1 kHz = 1000 Hz). As people\\ngrow older their ears become less sensitive to\\nhigher frequencies. Sounds of frequencies\\nbelow 20 Hz are called infrasonic sound or\\ninfrasound. If we could hear infrasound we\\nwould hear the vibrations of a pendulum just\\nas we hear the vibrations of the wings of a bee.\\nRhinoceroses communicate using infrasound\\nof frequency as low as 5 Hz. Whales and\\nelephants produce sound in the infrasound\\nrange. It is observed that some animals get\\ndisturbed before earthquakes. Earthquakes\\nproduce low-frequency infrasound before the\\nmain shock waves begin which possibly alert\\nthe animals. Frequencies higher than 20 kHz\\nare called ultrasonic sound or ultrasound.\\nUltrasound is produced by animals such as\\ndolphins, bats and porpoises. Moths of certain\\nfamilies have very sensitive hearing equipment.\\nThese moths can hear the high frequencyQ\\nFig.11.11:  Stethoscope\\n3.Generally the ceilings of concert halls,\\nconference halls and cinema halls are\\ncurved so that sound after reflection\\nreaches all corners of the hall, as\\nshown in Fig 1 1.12. Sometimes a\\ncurved soundboard may be placed\\nbehind the stage so that the sound,\\nafter reflecting from the sound board,\\nspreads evenly across the width of the\\nhall (Fig 1 1.13).In these instruments, a tube followed\\nby a conical opening reflects sound\\nsuccessively to guide most of the\\nsound waves from the source in the\\nforward direction towards the\\naudience.\\nRationalised 2023-24\\n\\nSCIENCE 136squeaks of the bat and know when a bat\\nis flying nearby, and are able to escape\\ncapture. Rats also play games by\\nproducing ultrasound.\\nHearing Aid: People with hearing loss may\\nneed a hearing aid. A hearing aid is an\\nelectronic, battery operated device. The\\nhearing aid receives sound through a\\nmicrophone. The microphone converts the\\nsound waves to electrical signals. These\\nelectrical signals are amplified by an\\namplifier . The amplified electrical signals\\nare given to a speaker of the hearing aid.\\nThe speaker converts the amplified\\nelectrical signal to sound and sends to the\\near for clear hearing.in construction of big structures like\\nbuildings, bridges, machines and also\\nscientific equipment. The cracks or\\nholes inside the metal blocks, which\\nare invisible from outside reduces the\\nstrength of the structure. Ultrasonic\\nwaves are allowed to pass through the\\nmetal block and detectors are used to\\ndetect the transmitted waves. If there\\nis even a small defect, the ultrasound\\ngets reflected back indicating the\\npresence of the flaw or defect, as shown\\nin Fig. 11.14.\\nQ\\nMetallic components are generally useduestions\\n1.What is the audible range of the\\naverage human ear?\\n2.What is the range of frequencies\\nassociated with\\n(a)Infrasound?\\n(b)Ultrasound?\\n11.5Applications of Ultrasound\\nUltrasounds are high frequency waves.\\nUltrasounds are able to travel along well-\\ndefined paths even in the presence of\\nobstacles. Ultrasounds are used extensively\\nin industries and for medical purposes.\\n•Ultrasound is generally used to clean\\nparts located in hard-to-reach places,\\nfor example, spiral tube, odd shaped\\nparts, electronic components, etc.\\nObjects to be cleaned are placed in a\\ncleaning solution and ultrasonic waves\\nare sent into the solution. Due to\\nthe high frequency, the particles of\\ndust, grease and dirt get detached and\\ndrop out. The objects thus get\\nthoroughly cleaned.\\n•Ultrasounds can be used to detect\\ncracks and flaws in metal blocks.Fig 11.14:  Ultrasound is reflected back from the\\ndefective locations inside a metal block.\\nOrdinary sound of longer wavelengths\\ncannot be used for such purpose as it will\\nbend around the corners of the defective\\nlocation and enter the detector .\\n•Ultrasonic waves are made to reflect\\nfrom various parts of the heart and\\nform the image of the heart. This  tech-\\nnique is called ‘echocardiography’.\\n•Ultrasound scanner is an instrument\\nwhich uses ultrasonic waves for\\ngetting images of internal organs of the\\nhuman body. A doctor may image the\\npatient’s or gans, such as the liver , gall\\nbladder , uterus, kidney, etc. It helps\\nthe doctor to detect abnormalities,\\nsuch as stones in the gall bladder and\\nkidney or tumours in different organs.\\nIn this technique the ultrasonic waves\\ntravel through the tissues of the body\\nand get reflected from a region where\\nthere is a change of tissue density.\\nRationalised 2023-24')]"
            ]
          },
          "execution_count": 29,
          "metadata": {},
          "output_type": "execute_result"
        }
      ],
      "source": [
        "result[\"source_documents\"]"
      ]
    },
    {
      "cell_type": "code",
      "execution_count": 30,
      "metadata": {
        "id": "TGFjxwzcUb02"
      },
      "outputs": [],
      "source": [
        "template = \"\"\"Use the following pieces of context to answer the question at the end. If you don't know the answer, just say that you don't know, don't try to make up an answer. Keep the answer as concise as possible. Always say \"thanks for asking!\" at the end of the answer.\n",
        "{context}\n",
        "Question: {question}\n",
        "Helpful Answer:\"\"\"\n",
        "QA_CHAIN_PROMPT = PromptTemplate.from_template(template)# Run chain\n",
        "qa_chain = RetrievalQA.from_chain_type(\n",
        "    model,\n",
        "    retriever=vector_index,\n",
        "    return_source_documents=True,\n",
        "    chain_type_kwargs={\"prompt\": QA_CHAIN_PROMPT}\n",
        ")\n"
      ]
    },
    {
      "cell_type": "code",
      "execution_count": 31,
      "metadata": {
        "colab": {
          "base_uri": "https://localhost:8080/",
          "height": 53
        },
        "id": "og-CJ7iaMYJe",
        "outputId": "82bb43b0-dac8-4905-d526-ceb645950f11"
      },
      "outputs": [
        {
          "name": "stderr",
          "output_type": "stream",
          "text": [
            "WARNING:chromadb.segment.impl.vector.local_hnsw:Number of requested results 5 is greater than number of elements in index 4, updating n_results = 4\n"
          ]
        },
        {
          "data": {
            "application/vnd.google.colaboratory.intrinsic+json": {
              "type": "string"
            },
            "text/plain": [
              "'Sound is a form of energy which produces a sensation of hearing in our ears. Thanks for asking!'"
            ]
          },
          "execution_count": 31,
          "metadata": {},
          "output_type": "execute_result"
        }
      ],
      "source": [
        "question = \"What is Sound\"\n",
        "result = qa_chain({\"query\": question})\n",
        "result[\"result\"]"
      ]
    },
    {
      "cell_type": "code",
      "execution_count": 32,
      "metadata": {
        "colab": {
          "base_uri": "https://localhost:8080/",
          "height": 46
        },
        "id": "BwZpAwFWMbor",
        "outputId": "baa23faf-4c75-41dc-ea06-d95fa1b9324a"
      },
      "outputs": [
        {
          "data": {
            "text/markdown": [
              "Sound is a form of energy which produces a sensation of hearing in our ears. Thanks for asking!"
            ],
            "text/plain": [
              "<IPython.core.display.Markdown object>"
            ]
          },
          "execution_count": 32,
          "metadata": {},
          "output_type": "execute_result"
        }
      ],
      "source": [
        "Markdown(result[\"result\"])"
      ]
    },
    {
      "cell_type": "code",
      "execution_count": null,
      "metadata": {
        "colab": {
          "base_uri": "https://localhost:8080/",
          "height": 46
        },
        "id": "CFNBXo0kJKkA",
        "outputId": "28022889-a62a-4a8e-ef23-65ea72fddf69"
      },
      "outputs": [
        {
          "data": {
            "text/markdown": [
              "I'm sorry, but this context does not mention anything about random forest, so I cannot answer this question from the provided context.\n",
              "Thanks for asking!"
            ],
            "text/plain": [
              "<IPython.core.display.Markdown object>"
            ]
          },
          "execution_count": 95,
          "metadata": {},
          "output_type": "execute_result"
        }
      ],
      "source": [
        "question = \"Describe Random forest?\"\n",
        "result = qa_chain({\"query\": question})\n",
        "Markdown(result[\"result\"])"
      ]
    },
    {
      "cell_type": "code",
      "execution_count": null,
      "metadata": {
        "id": "5lJFkMALJSe9"
      },
      "outputs": [],
      "source": []
    }
  ],
  "metadata": {
    "colab": {
      "provenance": []
    },
    "kernelspec": {
      "display_name": "Python 3",
      "name": "python3"
    },
    "language_info": {
      "name": "python"
    }
  },
  "nbformat": 4,
  "nbformat_minor": 0
}
